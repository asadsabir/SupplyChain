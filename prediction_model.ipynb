{
 "cells": [
  {
   "cell_type": "markdown",
   "metadata": {},
   "source": [
    "- Build base model for this\n",
    "- Try Streamlit\n",
    "- Look at/for other datasets\n",
    "- Email Reda"
   ]
  },
  {
   "cell_type": "code",
   "execution_count": 1,
   "metadata": {},
   "outputs": [],
   "source": [
    "import pandas as pd\n",
    "import numpy as np\n",
    "import networkx as nx\n",
    "import matplotlib.pyplot as plt\n",
    "import seaborn as sns\n",
    "import pickle"
   ]
  },
  {
   "cell_type": "code",
   "execution_count": null,
   "metadata": {},
   "outputs": [],
   "source": [
    "mean_mse_te = 0\n",
    "for ttime, tsnapshot in enumerate(test_iter):\n",
    "    pred,H_t,C_t = model(tsnapshot.x, tsnapshot.edge_index, H_t,C_t)\n",
    "    mean_mse_te = mean_mse_te + torch.mean(vmse(pred,tsnapshot.y))\n",
    "    preds.append(pred.detach().numpy())\n",
    "    true.append(tsnapshot.y.detach().numpy())\n",
    "    if ttime%batch_size == 0:\n",
    "        H_t = None"
   ]
  },
  {
   "cell_type": "code",
   "execution_count": 2,
   "metadata": {},
   "outputs": [],
   "source": [
    "G = pickle.load(open('graphs/graph.pkl','rb'))"
   ]
  },
  {
   "cell_type": "code",
   "execution_count": 3,
   "metadata": {},
   "outputs": [],
   "source": [
    "for node in G.nodes:\n",
    "    G.nodes[node]['delivered'] = np.sum(G.nodes[node]['delivered'])\n",
    "    G.nodes[node]['factory issue'] = np.sum(G.nodes[node]['delivered'])\n",
    "    G.nodes[node]['sales_order'] = np.sum(G.nodes[node]['delivered'])\n",
    "    G.nodes[node]['production'] = np.sum(G.nodes[node]['production'])\n",
    "\n",
    "G_processed = nx.convert_node_labels_to_integers(G)"
   ]
  },
  {
   "cell_type": "code",
   "execution_count": 4,
   "metadata": {},
   "outputs": [],
   "source": [
    "edge_attr = np.zeros((len(G_processed.edges()),4))\n",
    "\n",
    "for i,e in enumerate(G_processed.edges(data=True)):\n",
    "    edge_attr[i] = np.array(list(e[2].values()),dtype=float)"
   ]
  },
  {
   "cell_type": "code",
   "execution_count": 5,
   "metadata": {},
   "outputs": [],
   "source": [
    "node_features = np.zeros(len(G_processed.nodes))\n",
    "node_targets = np.zeros(len(G_processed.nodes))\n",
    "for i,n in enumerate(G_processed.nodes(data=True)):\n",
    "    node_features[i] = n[1]['sales_order']\n",
    "    node_targets[i] = n[1]['production']"
   ]
  },
  {
   "cell_type": "code",
   "execution_count": 6,
   "metadata": {},
   "outputs": [],
   "source": [
    "from torch_geometric.data import Data\n",
    "from torch_geometric.transforms import RandomNodeSplit\n",
    "Graph = Data(\n",
    "    x=node_features,\n",
    "    edge_index= np.array(list(G_processed.edges())).transpose(),\n",
    "    edge_attr=edge_attr,\n",
    "    y=node_targets\n",
    ")\n",
    "\n",
    "split = RandomNodeSplit('train_rest',num_splits=4,num_val=0,num_test=10)\n",
    "\n",
    "a = split(Graph)"
   ]
  },
  {
   "cell_type": "code",
   "execution_count": 7,
   "metadata": {},
   "outputs": [],
   "source": [
    "def nx_to_torch(g):\n",
    "    g = nx.convert_node_labels_to_integers(g)\n",
    "    node_features = np.zeros(len(g.nodes))\n",
    "    node_targets = np.zeros(len(g.nodes))\n",
    "    for i,n in enumerate(g.nodes(data=True)):\n",
    "        node_features[i] = n[1]['sales_order']\n",
    "        node_targets[i] = n[1]['production']\n",
    "\n",
    "    edge_weights = np.zeros((len(g.edges()),4))\n",
    "\n",
    "    for i,e in enumerate(g.edges(data=True)):\n",
    "        edge_weights[i] = np.array(list(e[2].values()),dtype=float)\n",
    "    return Data(\n",
    "    x=np.reshape(node_features,(len(node_features),1)),\n",
    "    edge_index= np.array(list(g.edges())).transpose(),\n",
    "    edge_attr=edge_weights,\n",
    "    y=node_targets\n",
    ")"
   ]
  },
  {
   "cell_type": "code",
   "execution_count": 8,
   "metadata": {},
   "outputs": [],
   "source": [
    "import random\n",
    "node_set = set(G_processed.nodes)\n",
    "other_node_set = set()\n",
    "cv = []\n",
    "while len(node_set) > 0:\n",
    "    fold = random.sample(list(node_set),5)\n",
    "    node_set = node_set.difference(fold)\n",
    "    g_test = nx_to_torch(nx.subgraph(G_processed,fold))\n",
    "    g_train = nx_to_torch(nx.subgraph(G_processed,list(node_set.union(other_node_set))))\n",
    "\n",
    "    cv.append((g_train,g_test))\n",
    "    other_node_set = other_node_set.union(set(fold))\n",
    "    "
   ]
  },
  {
   "cell_type": "code",
   "execution_count": 9,
   "metadata": {},
   "outputs": [
    {
     "data": {
      "text/plain": [
       "[(Data(x=[35, 1], edge_index=[2, 518], edge_attr=[518, 4], y=[35]),\n",
       "  Data(x=[5, 1], edge_index=[2, 10], edge_attr=[10, 4], y=[5])),\n",
       " (Data(x=[35, 1], edge_index=[2, 504], edge_attr=[504, 4], y=[35]),\n",
       "  Data(x=[5, 1], edge_index=[2, 10], edge_attr=[10, 4], y=[5])),\n",
       " (Data(x=[35, 1], edge_index=[2, 526], edge_attr=[526, 4], y=[35]),\n",
       "  Data(x=[5, 1], edge_index=[2, 9], edge_attr=[9, 4], y=[5])),\n",
       " (Data(x=[35, 1], edge_index=[2, 508], edge_attr=[508, 4], y=[35]),\n",
       "  Data(x=[5, 1], edge_index=[2, 10], edge_attr=[10, 4], y=[5])),\n",
       " (Data(x=[35, 1], edge_index=[2, 538], edge_attr=[538, 4], y=[35]),\n",
       "  Data(x=[5, 1], edge_index=[2, 6], edge_attr=[6, 4], y=[5])),\n",
       " (Data(x=[35, 1], edge_index=[2, 529], edge_attr=[529, 4], y=[35]),\n",
       "  Data(x=[5, 1], edge_index=[2, 9], edge_attr=[9, 4], y=[5])),\n",
       " (Data(x=[35, 1], edge_index=[2, 533], edge_attr=[533, 4], y=[35]),\n",
       "  Data(x=[5, 1], edge_index=[2, 8], edge_attr=[8, 4], y=[5])),\n",
       " (Data(x=[35, 1], edge_index=[2, 519], edge_attr=[519, 4], y=[35]),\n",
       "  Data(x=[5, 1], edge_index=[2, 9], edge_attr=[9, 4], y=[5]))]"
      ]
     },
     "execution_count": 9,
     "metadata": {},
     "output_type": "execute_result"
    }
   ],
   "source": [
    "cv"
   ]
  },
  {
   "cell_type": "code",
   "execution_count": 10,
   "metadata": {},
   "outputs": [],
   "source": [
    "from torch_geometric.nn.models import GraphSAGE\n",
    "import torch\n",
    "import torch.nn.functional as F\n",
    "\n",
    "\n",
    "class GSAGE(torch.nn.Module):\n",
    "    def __init__(self, hidden):\n",
    "        super(GSAGE, self).__init__()\n",
    "        self.recurrent = GraphSAGE(-1,hidden,2)\n",
    "        self.linear = torch.nn.Linear(hidden, 1)\n",
    "\n",
    "    def forward(self, x, edge_index, edge_attr):\n",
    "        h = self.recurrent(x, edge_index, edge_attr)\n",
    "        h = F.relu(h)\n",
    "        h = self.linear(h)\n",
    "        return h\n",
    "\n",
    "\n"
   ]
  },
  {
   "cell_type": "code",
   "execution_count": 11,
   "metadata": {},
   "outputs": [
    {
     "data": {
      "text/plain": [
       "dtype('float64')"
      ]
     },
     "execution_count": 11,
     "metadata": {},
     "output_type": "execute_result"
    }
   ],
   "source": [
    "cv[0][0].x.dtype"
   ]
  },
  {
   "cell_type": "code",
   "execution_count": 22,
   "metadata": {},
   "outputs": [
    {
     "name": "stderr",
     "output_type": "stream",
     "text": [
      "100%|██████████| 400/400 [00:00<00:00, 1901.02it/s]\n"
     ]
    }
   ],
   "source": [
    "from tqdm import tqdm\n",
    "\n",
    "model = GSAGE(hidden=10)\n",
    "\n",
    "optimizer = torch.optim.Adam(model.parameters(), lr=0.01)\n",
    "\n",
    "model.train()\n",
    "\n",
    "train = cv[0][0]\n",
    "for epoch in tqdm(range(400)):\n",
    "\n",
    "    y_hat = model(torch.tensor(train.x,dtype=torch.float32), torch.tensor(train.edge_index,dtype=torch.int64), train.edge_attr)\n",
    "    cost = torch.mean((y_hat-torch.tensor(train.y))**2)\n",
    "    cost.backward()\n",
    "    optimizer.step()\n",
    "    optimizer.zero_grad()"
   ]
  },
  {
   "cell_type": "code",
   "execution_count": 23,
   "metadata": {},
   "outputs": [
    {
     "name": "stdout",
     "output_type": "stream",
     "text": [
      "RMSE: 1220.9285\n"
     ]
    }
   ],
   "source": [
    "model.eval()\n",
    "test = cv[0][1]\n",
    "cost = 0\n",
    "\n",
    "y_hat = model(torch.tensor(test.x,dtype=torch.float32), torch.tensor(test.edge_index,dtype=torch.int64), test.edge_attr)\n",
    "\n",
    "cost = cost + torch.mean((y_hat-torch.tensor(test.y))**2)\n",
    "cost = cost / 5\n",
    "cost = cost.item()\n",
    "print(\"RMSE: {:.4f}\".format(cost**0.5))"
   ]
  },
  {
   "cell_type": "code",
   "execution_count": 24,
   "metadata": {},
   "outputs": [
    {
     "data": {
      "text/plain": [
       "array([6853.9632 ,  211.72512, 2147.45076,    0.     ,  222.65   ])"
      ]
     },
     "execution_count": 24,
     "metadata": {},
     "output_type": "execute_result"
    }
   ],
   "source": [
    "test.y"
   ]
  },
  {
   "cell_type": "code",
   "execution_count": 25,
   "metadata": {},
   "outputs": [
    {
     "data": {
      "text/plain": [
       "tensor([[ 866.0465],\n",
       "        [1477.3575],\n",
       "        [1204.0852],\n",
       "        [1045.1263],\n",
       "        [ 884.9025]], grad_fn=<AddmmBackward0>)"
      ]
     },
     "execution_count": 25,
     "metadata": {},
     "output_type": "execute_result"
    }
   ],
   "source": [
    "y_hat"
   ]
  },
  {
   "cell_type": "code",
   "execution_count": null,
   "metadata": {},
   "outputs": [],
   "source": []
  }
 ],
 "metadata": {
  "kernelspec": {
   "display_name": "supplychain",
   "language": "python",
   "name": "python3"
  },
  "language_info": {
   "codemirror_mode": {
    "name": "ipython",
    "version": 3
   },
   "file_extension": ".py",
   "mimetype": "text/x-python",
   "name": "python",
   "nbconvert_exporter": "python",
   "pygments_lexer": "ipython3",
   "version": "3.12.2"
  }
 },
 "nbformat": 4,
 "nbformat_minor": 2
}
