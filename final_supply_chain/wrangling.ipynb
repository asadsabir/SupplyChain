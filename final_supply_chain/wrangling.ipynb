{
 "cells": [
  {
   "cell_type": "code",
   "execution_count": 1,
   "metadata": {},
   "outputs": [],
   "source": [
    "import networkx as nx\n",
    "import scipy.io\n",
    "import numpy as np\n",
    "from scipy import sparse\n",
    "import matplotlib.pyplot as plt"
   ]
  },
  {
   "cell_type": "code",
   "execution_count": 2,
   "metadata": {},
   "outputs": [
    {
     "data": {
      "text/plain": [
       "dict_keys(['__header__', '__version__', '__globals__', 'tra_X_tr', 'tra_X_te', 'tra_Y_tr', 'tra_Y_te', 'tra_adj_mat'])"
      ]
     },
     "execution_count": 2,
     "metadata": {},
     "output_type": "execute_result"
    }
   ],
   "source": [
    "mat = scipy.io.loadmat('traffic_dataset.mat')\n",
    "mat.keys()"
   ]
  },
  {
   "cell_type": "code",
   "execution_count": 3,
   "metadata": {},
   "outputs": [],
   "source": [
    "def sm_to_array(sm):\n",
    "    return sparse.csr_matrix(sm).toarray()\n",
    "\n",
    "\n",
    "def convert_to_npm(mat_dict):    \n",
    "    npm = []\n",
    "\n",
    "    for i in range(mat_dict.shape[1]):\n",
    "        sm = mat_dict[:,i][0]\n",
    "        npm.append(sm_to_array(sm))\n",
    "\n",
    "    return(np.array(npm))\n",
    "    "
   ]
  },
  {
   "cell_type": "code",
   "execution_count": 4,
   "metadata": {},
   "outputs": [],
   "source": [
    "X_train = convert_to_npm(mat['tra_X_tr'])\n",
    "X_test = convert_to_npm(mat['tra_X_te'])\n",
    "y_train = mat['tra_Y_tr']\n",
    "y_test = mat['tra_Y_te']\n",
    "adj_mat = mat['tra_adj_mat']"
   ]
  },
  {
   "cell_type": "code",
   "execution_count": 5,
   "metadata": {},
   "outputs": [
    {
     "name": "stdout",
     "output_type": "stream",
     "text": [
      "(1261, 36, 48)\n",
      "(840, 36, 48)\n",
      "(36, 1261)\n",
      "(36, 840)\n",
      "(36, 36)\n"
     ]
    }
   ],
   "source": [
    "print(X_train.shape)\n",
    "print(X_test.shape)\n",
    "print(y_train.shape)\n",
    "print(y_test.shape)\n",
    "print(adj_mat.shape)"
   ]
  },
  {
   "cell_type": "code",
   "execution_count": 6,
   "metadata": {},
   "outputs": [
    {
     "data": {
      "text/plain": [
       "array([[0, 1, 0, ..., 0, 0, 0],\n",
       "       [1, 0, 1, ..., 0, 0, 0],\n",
       "       [0, 1, 0, ..., 0, 0, 0],\n",
       "       ...,\n",
       "       [0, 0, 0, ..., 0, 1, 0],\n",
       "       [0, 0, 0, ..., 1, 0, 0],\n",
       "       [0, 0, 0, ..., 0, 0, 0]], dtype=uint8)"
      ]
     },
     "execution_count": 6,
     "metadata": {},
     "output_type": "execute_result"
    }
   ],
   "source": [
    "adj_mat"
   ]
  },
  {
   "cell_type": "markdown",
   "metadata": {},
   "source": [
    "Next I'll check to see if there are any features that are zeros for all sensors in all the rows"
   ]
  },
  {
   "cell_type": "code",
   "execution_count": 7,
   "metadata": {},
   "outputs": [],
   "source": [
    "null_count = np.zeros(48)\n",
    "\n",
    "for time in X_train:\n",
    "    for f in range(48):\n",
    "        if sum(X_train[0][:,f]) == 0:\n",
    "            null_count[f] += 1"
   ]
  },
  {
   "cell_type": "code",
   "execution_count": 8,
   "metadata": {},
   "outputs": [
    {
     "data": {
      "text/plain": [
       "array([   0.,    0.,    0.,    0.,    0.,    0.,    0.,    0.,    0.,\n",
       "          0.,    0., 1261., 1261., 1261., 1261.,    0., 1261., 1261.,\n",
       "       1261., 1261., 1261., 1261., 1261., 1261., 1261., 1261., 1261.,\n",
       "       1261., 1261., 1261., 1261., 1261., 1261., 1261., 1261., 1261.,\n",
       "       1261., 1261., 1261.,    0.,    0.,    0.,    0.,    0.,    0.,\n",
       "          0.,    0.,    0.])"
      ]
     },
     "execution_count": 8,
     "metadata": {},
     "output_type": "execute_result"
    }
   ],
   "source": [
    "null_count"
   ]
  },
  {
   "cell_type": "code",
   "execution_count": 9,
   "metadata": {},
   "outputs": [
    {
     "data": {
      "text/plain": [
       "array([  0.,   0.,   0.,   0.,   0.,   0.,   0.,   0.,   0.,   0.,   0.,\n",
       "       840., 840., 840., 840.,   0., 840., 840., 840., 840., 840., 840.,\n",
       "       840., 840., 840., 840., 840., 840., 840., 840., 840., 840., 840.,\n",
       "       840., 840., 840., 840., 840., 840.,   0.,   0.,   0.,   0.,   0.,\n",
       "         0.,   0.,   0.,   0.])"
      ]
     },
     "execution_count": 9,
     "metadata": {},
     "output_type": "execute_result"
    }
   ],
   "source": [
    "null_count = np.zeros(48)\n",
    "\n",
    "for time in X_test:\n",
    "    for f in range(48):\n",
    "        if sum(X_train[0][:,f]) == 0:\n",
    "            null_count[f] += 1\n",
    "\n",
    "null_count"
   ]
  },
  {
   "cell_type": "markdown",
   "metadata": {},
   "source": [
    "looks like 27 features can be dropped"
   ]
  },
  {
   "cell_type": "code",
   "execution_count": 10,
   "metadata": {},
   "outputs": [],
   "source": [
    "null_mask = [True if c == 0 else False for c in null_count]\n",
    "\n",
    "X_train = X_train[:,:,null_mask]\n",
    "X_test = X_test[:,:,null_mask]"
   ]
  },
  {
   "cell_type": "markdown",
   "metadata": {},
   "source": [
    "<h3>Graph Structure</h3>\n",
    "\n",
    "<h4> Nodes </h4>\n",
    "\n",
    "represents a location with a sensor\n",
    "\n",
    "Node features:\n",
    "   Traffic Voume 10  \n",
    "   week day 7\n",
    "   hour of day 24\n",
    "   road direction 4\n",
    "   Number of lanes\n",
    "   Name of road\n",
    "   \n",
    "\n",
    "\n",
    "<h4> Edges </h4>\n",
    "\n",
    "represent traffic connectivity between locations/sensors\n",
    "\n",
    "Since there are no edge features, I'll parametrize the edges between sensors in the model\n",
    "   \n",
    " \n",
    "\n"
   ]
  },
  {
   "cell_type": "code",
   "execution_count": 11,
   "metadata": {},
   "outputs": [
    {
     "data": {
      "text/plain": [
       "array([[0, 1, 0, ..., 0, 0, 0],\n",
       "       [1, 0, 1, ..., 0, 0, 0],\n",
       "       [0, 1, 0, ..., 0, 0, 0],\n",
       "       ...,\n",
       "       [0, 0, 0, ..., 0, 1, 0],\n",
       "       [0, 0, 0, ..., 1, 0, 0],\n",
       "       [0, 0, 0, ..., 0, 0, 0]], dtype=uint8)"
      ]
     },
     "execution_count": 11,
     "metadata": {},
     "output_type": "execute_result"
    }
   ],
   "source": [
    "adj_mat"
   ]
  },
  {
   "cell_type": "code",
   "execution_count": 12,
   "metadata": {},
   "outputs": [],
   "source": [
    "G = nx.Graph()\n",
    "\n",
    "G.add_nodes_from(range(36))\n",
    "\n",
    "for i in range(len(adj_mat)):\n",
    "    for j in range(i+1,len(adj_mat)):\n",
    "        if adj_mat[i][j] == 1:\n",
    "            G.add_edge(i,j)\n",
    "            G.add_edge(j,i)"
   ]
  },
  {
   "cell_type": "code",
   "execution_count": 13,
   "metadata": {},
   "outputs": [
    {
     "data": {
      "image/png": "[encoded data removed]",
      "text/plain": [
       "<Figure size 640x480 with 1 Axes>"
      ]
     },
     "metadata": {},
     "output_type": "display_data"
    }
   ],
   "source": [
    "nx.draw(G)"
   ]
  },
  {
   "cell_type": "code",
   "execution_count": 14,
   "metadata": {},
   "outputs": [
    {
     "data": {
      "text/plain": [
       "(1261, 36, 21)"
      ]
     },
     "execution_count": 14,
     "metadata": {},
     "output_type": "execute_result"
    }
   ],
   "source": [
    "X_train.shape"
   ]
  },
  {
   "cell_type": "code",
   "execution_count": 15,
   "metadata": {},
   "outputs": [
    {
     "data": {
      "text/plain": [
       "(36, 1261)"
      ]
     },
     "execution_count": 15,
     "metadata": {},
     "output_type": "execute_result"
    }
   ],
   "source": [
    "y_train.shape"
   ]
  },
  {
   "cell_type": "code",
   "execution_count": 16,
   "metadata": {},
   "outputs": [],
   "source": [
    "from torch_geometric_temporal.signal import StaticGraphTemporalSignal\n",
    "\n",
    "train_iter = StaticGraphTemporalSignal(\n",
    "    edge_index= np.array(list(G.edges())).transpose(),\n",
    "    edge_weight=np.ones(len(G.edges)),\n",
    "    features = X_train,\n",
    "    targets = y_train.T#[4,:].reshape((1261,1))\n",
    ")\n",
    "\n",
    "test_iter = StaticGraphTemporalSignal(\n",
    "    edge_index= np.array(list(G.edges())).transpose(),\n",
    "    edge_weight=np.ones(len(G.edges)),\n",
    "    features = X_test,\n",
    "    targets = y_test.T#[4,:].reshape((840,1))\n",
    ")\n",
    "\n",
    "\n"
   ]
  },
  {
   "cell_type": "code",
   "execution_count": 17,
   "metadata": {},
   "outputs": [
    {
     "name": "stdout",
     "output_type": "stream",
     "text": [
      "torch.Size([36, 21])\n",
      "torch.Size([2, 43])\n",
      "torch.Size([43])\n",
      "36\n",
      "1\n",
      "torch.Size([36])\n"
     ]
    }
   ],
   "source": [
    "for time, snapshot in enumerate(train_iter):\n",
    "    print(snapshot.x.shape)\n",
    "    print(snapshot.edge_index.shape)\n",
    "    print(snapshot.edge_attr.shape)\n",
    "    print(snapshot.num_nodes)\n",
    "    print(snapshot.num_edge_features)\n",
    "    print(snapshot.y.shape)\n",
    "    break"
   ]
  },
  {
   "cell_type": "code",
   "execution_count": 18,
   "metadata": {},
   "outputs": [],
   "source": [
    "import torch\n",
    "import torch.nn.functional as F\n",
    "from torch import nn\n",
    "from torch_geometric_temporal.nn.recurrent import GConvLSTM\n",
    "from torch_geometric.nn.conv import SAGEConv\n",
    "from torch_geometric.nn.norm import GraphNorm\n",
    "\n",
    "class GLSTM(torch.nn.Module):\n",
    "    def __init__(self, node_features, filters,num_edges):\n",
    "        super(GLSTM, self).__init__()\n",
    "        self.recurrent = GConvLSTM(node_features, filters, 3)                           \n",
    "        self.sage = SAGEConv(filters,1,project=True)\n",
    "        \n",
    "        self.edge_weights = nn.Parameter(torch.ones(num_edges,dtype=torch.float))\n",
    "        self.norm = GraphNorm(filters)\n",
    "        \n",
    "    def forward(self, x, edge_index, hidden_state, cell_state):\n",
    "        \n",
    "        h,c = self.recurrent(x, edge_index, self.edge_weights,H=hidden_state,C=cell_state)\n",
    "        y = self.norm(h)\n",
    "        y = F.relu(y)\n",
    "        y = F.dropout(y)\n",
    "        y = self.sage(y,edge_index)\n",
    "        \n",
    "        \n",
    "        return y,h,c"
   ]
  },
  {
   "cell_type": "code",
   "execution_count": 19,
   "metadata": {},
   "outputs": [],
   "source": [
    "from tqdm import tqdm\n",
    "           \n",
    "\n",
    "batch_size = 5\n",
    "model = GLSTM(node_features=21,filters=64,num_edges=43)\n",
    "loss = nn.MSELoss()\n",
    "optimizer = torch.optim.Adam(model.parameters(), lr=0.0001)\n",
    "\n",
    "tr_preds = []\n",
    "tr_y = []\n",
    "\n",
    "train_loss = []\n",
    "test_loss = []"
   ]
  },
  {
   "cell_type": "code",
   "execution_count": 25,
   "metadata": {},
   "outputs": [
    {
     "name": "stderr",
     "output_type": "stream",
     "text": [
      "train MSE:0.028464, test MSE:0.025183:  52%|█████▎    | 210/400 [31:26<28:26,  8.98s/it]\n"
     ]
    },
    {
     "ename": "KeyboardInterrupt",
     "evalue": "",
     "output_type": "error",
     "traceback": [
      "\u001b[0;31m---------------------------------------------------------------------------\u001b[0m",
      "\u001b[0;31mKeyboardInterrupt\u001b[0m                         Traceback (most recent call last)",
      "Cell \u001b[0;32mIn[25], line 17\u001b[0m\n\u001b[1;32m     15\u001b[0m augmented_x \u001b[38;5;241m=\u001b[39m snapshot\u001b[38;5;241m.\u001b[39mx\n\u001b[1;32m     16\u001b[0m augmented_x[:,:\u001b[38;5;241m10\u001b[39m] \u001b[38;5;241m=\u001b[39m augmented_xf\n\u001b[0;32m---> 17\u001b[0m y_hat,H,C \u001b[38;5;241m=\u001b[39m \u001b[43mmodel\u001b[49m\u001b[43m(\u001b[49m\u001b[43maugmented_x\u001b[49m\u001b[43m,\u001b[49m\u001b[43m \u001b[49m\u001b[43msnapshot\u001b[49m\u001b[38;5;241;43m.\u001b[39;49m\u001b[43medge_index\u001b[49m\u001b[43m,\u001b[49m\u001b[43m \u001b[49m\u001b[43mH\u001b[49m\u001b[43m,\u001b[49m\u001b[43m \u001b[49m\u001b[43mC\u001b[49m\u001b[43m)\u001b[49m\n\u001b[1;32m     19\u001b[0m cost \u001b[38;5;241m=\u001b[39m cost \u001b[38;5;241m+\u001b[39m loss(y_hat,augment_y)\u001b[38;5;66;03m#torch.mean((y_hat-snapshot.y)**2)\u001b[39;00m\n\u001b[1;32m     20\u001b[0m \u001b[38;5;28;01mif\u001b[39;00m time \u001b[38;5;241m==\u001b[39m \u001b[38;5;241m1000\u001b[39m:\n",
      "File \u001b[0;32m~/anaconda3/envs/traffic/lib/python3.11/site-packages/torch/nn/modules/module.py:1511\u001b[0m, in \u001b[0;36mModule._wrapped_call_impl\u001b[0;34m(self, *args, **kwargs)\u001b[0m\n\u001b[1;32m   1509\u001b[0m     \u001b[38;5;28;01mreturn\u001b[39;00m \u001b[38;5;28mself\u001b[39m\u001b[38;5;241m.\u001b[39m_compiled_call_impl(\u001b[38;5;241m*\u001b[39margs, \u001b[38;5;241m*\u001b[39m\u001b[38;5;241m*\u001b[39mkwargs)  \u001b[38;5;66;03m# type: ignore[misc]\u001b[39;00m\n\u001b[1;32m   1510\u001b[0m \u001b[38;5;28;01melse\u001b[39;00m:\n\u001b[0;32m-> 1511\u001b[0m     \u001b[38;5;28;01mreturn\u001b[39;00m \u001b[38;5;28;43mself\u001b[39;49m\u001b[38;5;241;43m.\u001b[39;49m\u001b[43m_call_impl\u001b[49m\u001b[43m(\u001b[49m\u001b[38;5;241;43m*\u001b[39;49m\u001b[43margs\u001b[49m\u001b[43m,\u001b[49m\u001b[43m \u001b[49m\u001b[38;5;241;43m*\u001b[39;49m\u001b[38;5;241;43m*\u001b[39;49m\u001b[43mkwargs\u001b[49m\u001b[43m)\u001b[49m\n",
      "File \u001b[0;32m~/anaconda3/envs/traffic/lib/python3.11/site-packages/torch/nn/modules/module.py:1520\u001b[0m, in \u001b[0;36mModule._call_impl\u001b[0;34m(self, *args, **kwargs)\u001b[0m\n\u001b[1;32m   1515\u001b[0m \u001b[38;5;66;03m# If we don't have any hooks, we want to skip the rest of the logic in\u001b[39;00m\n\u001b[1;32m   1516\u001b[0m \u001b[38;5;66;03m# this function, and just call forward.\u001b[39;00m\n\u001b[1;32m   1517\u001b[0m \u001b[38;5;28;01mif\u001b[39;00m \u001b[38;5;129;01mnot\u001b[39;00m (\u001b[38;5;28mself\u001b[39m\u001b[38;5;241m.\u001b[39m_backward_hooks \u001b[38;5;129;01mor\u001b[39;00m \u001b[38;5;28mself\u001b[39m\u001b[38;5;241m.\u001b[39m_backward_pre_hooks \u001b[38;5;129;01mor\u001b[39;00m \u001b[38;5;28mself\u001b[39m\u001b[38;5;241m.\u001b[39m_forward_hooks \u001b[38;5;129;01mor\u001b[39;00m \u001b[38;5;28mself\u001b[39m\u001b[38;5;241m.\u001b[39m_forward_pre_hooks\n\u001b[1;32m   1518\u001b[0m         \u001b[38;5;129;01mor\u001b[39;00m _global_backward_pre_hooks \u001b[38;5;129;01mor\u001b[39;00m _global_backward_hooks\n\u001b[1;32m   1519\u001b[0m         \u001b[38;5;129;01mor\u001b[39;00m _global_forward_hooks \u001b[38;5;129;01mor\u001b[39;00m _global_forward_pre_hooks):\n\u001b[0;32m-> 1520\u001b[0m     \u001b[38;5;28;01mreturn\u001b[39;00m \u001b[43mforward_call\u001b[49m\u001b[43m(\u001b[49m\u001b[38;5;241;43m*\u001b[39;49m\u001b[43margs\u001b[49m\u001b[43m,\u001b[49m\u001b[43m \u001b[49m\u001b[38;5;241;43m*\u001b[39;49m\u001b[38;5;241;43m*\u001b[39;49m\u001b[43mkwargs\u001b[49m\u001b[43m)\u001b[49m\n\u001b[1;32m   1522\u001b[0m \u001b[38;5;28;01mtry\u001b[39;00m:\n\u001b[1;32m   1523\u001b[0m     result \u001b[38;5;241m=\u001b[39m \u001b[38;5;28;01mNone\u001b[39;00m\n",
      "Cell \u001b[0;32mIn[18], line 19\u001b[0m, in \u001b[0;36mGLSTM.forward\u001b[0;34m(self, x, edge_index, hidden_state, cell_state)\u001b[0m\n\u001b[1;32m     17\u001b[0m \u001b[38;5;28;01mdef\u001b[39;00m \u001b[38;5;21mforward\u001b[39m(\u001b[38;5;28mself\u001b[39m, x, edge_index, hidden_state, cell_state):\n\u001b[0;32m---> 19\u001b[0m     h,c \u001b[38;5;241m=\u001b[39m \u001b[38;5;28;43mself\u001b[39;49m\u001b[38;5;241;43m.\u001b[39;49m\u001b[43mrecurrent\u001b[49m\u001b[43m(\u001b[49m\u001b[43mx\u001b[49m\u001b[43m,\u001b[49m\u001b[43m \u001b[49m\u001b[43medge_index\u001b[49m\u001b[43m,\u001b[49m\u001b[43m \u001b[49m\u001b[38;5;28;43mself\u001b[39;49m\u001b[38;5;241;43m.\u001b[39;49m\u001b[43medge_weights\u001b[49m\u001b[43m,\u001b[49m\u001b[43mH\u001b[49m\u001b[38;5;241;43m=\u001b[39;49m\u001b[43mhidden_state\u001b[49m\u001b[43m,\u001b[49m\u001b[43mC\u001b[49m\u001b[38;5;241;43m=\u001b[39;49m\u001b[43mcell_state\u001b[49m\u001b[43m)\u001b[49m\n\u001b[1;32m     20\u001b[0m     y \u001b[38;5;241m=\u001b[39m \u001b[38;5;28mself\u001b[39m\u001b[38;5;241m.\u001b[39mnorm(h)\n\u001b[1;32m     21\u001b[0m     y \u001b[38;5;241m=\u001b[39m F\u001b[38;5;241m.\u001b[39mrelu(y)\n",
      "File \u001b[0;32m~/anaconda3/envs/traffic/lib/python3.11/site-packages/torch/nn/modules/module.py:1511\u001b[0m, in \u001b[0;36mModule._wrapped_call_impl\u001b[0;34m(self, *args, **kwargs)\u001b[0m\n\u001b[1;32m   1509\u001b[0m     \u001b[38;5;28;01mreturn\u001b[39;00m \u001b[38;5;28mself\u001b[39m\u001b[38;5;241m.\u001b[39m_compiled_call_impl(\u001b[38;5;241m*\u001b[39margs, \u001b[38;5;241m*\u001b[39m\u001b[38;5;241m*\u001b[39mkwargs)  \u001b[38;5;66;03m# type: ignore[misc]\u001b[39;00m\n\u001b[1;32m   1510\u001b[0m \u001b[38;5;28;01melse\u001b[39;00m:\n\u001b[0;32m-> 1511\u001b[0m     \u001b[38;5;28;01mreturn\u001b[39;00m \u001b[38;5;28;43mself\u001b[39;49m\u001b[38;5;241;43m.\u001b[39;49m\u001b[43m_call_impl\u001b[49m\u001b[43m(\u001b[49m\u001b[38;5;241;43m*\u001b[39;49m\u001b[43margs\u001b[49m\u001b[43m,\u001b[49m\u001b[43m \u001b[49m\u001b[38;5;241;43m*\u001b[39;49m\u001b[38;5;241;43m*\u001b[39;49m\u001b[43mkwargs\u001b[49m\u001b[43m)\u001b[49m\n",
      "File \u001b[0;32m~/anaconda3/envs/traffic/lib/python3.11/site-packages/torch/nn/modules/module.py:1520\u001b[0m, in \u001b[0;36mModule._call_impl\u001b[0;34m(self, *args, **kwargs)\u001b[0m\n\u001b[1;32m   1515\u001b[0m \u001b[38;5;66;03m# If we don't have any hooks, we want to skip the rest of the logic in\u001b[39;00m\n\u001b[1;32m   1516\u001b[0m \u001b[38;5;66;03m# this function, and just call forward.\u001b[39;00m\n\u001b[1;32m   1517\u001b[0m \u001b[38;5;28;01mif\u001b[39;00m \u001b[38;5;129;01mnot\u001b[39;00m (\u001b[38;5;28mself\u001b[39m\u001b[38;5;241m.\u001b[39m_backward_hooks \u001b[38;5;129;01mor\u001b[39;00m \u001b[38;5;28mself\u001b[39m\u001b[38;5;241m.\u001b[39m_backward_pre_hooks \u001b[38;5;129;01mor\u001b[39;00m \u001b[38;5;28mself\u001b[39m\u001b[38;5;241m.\u001b[39m_forward_hooks \u001b[38;5;129;01mor\u001b[39;00m \u001b[38;5;28mself\u001b[39m\u001b[38;5;241m.\u001b[39m_forward_pre_hooks\n\u001b[1;32m   1518\u001b[0m         \u001b[38;5;129;01mor\u001b[39;00m _global_backward_pre_hooks \u001b[38;5;129;01mor\u001b[39;00m _global_backward_hooks\n\u001b[1;32m   1519\u001b[0m         \u001b[38;5;129;01mor\u001b[39;00m _global_forward_hooks \u001b[38;5;129;01mor\u001b[39;00m _global_forward_pre_hooks):\n\u001b[0;32m-> 1520\u001b[0m     \u001b[38;5;28;01mreturn\u001b[39;00m \u001b[43mforward_call\u001b[49m\u001b[43m(\u001b[49m\u001b[38;5;241;43m*\u001b[39;49m\u001b[43margs\u001b[49m\u001b[43m,\u001b[49m\u001b[43m \u001b[49m\u001b[38;5;241;43m*\u001b[39;49m\u001b[38;5;241;43m*\u001b[39;49m\u001b[43mkwargs\u001b[49m\u001b[43m)\u001b[49m\n\u001b[1;32m   1522\u001b[0m \u001b[38;5;28;01mtry\u001b[39;00m:\n\u001b[1;32m   1523\u001b[0m     result \u001b[38;5;241m=\u001b[39m \u001b[38;5;28;01mNone\u001b[39;00m\n",
      "File \u001b[0;32m~/anaconda3/envs/traffic/lib/python3.11/site-packages/torch_geometric_temporal/nn/recurrent/gconv_lstm.py:231\u001b[0m, in \u001b[0;36mGConvLSTM.forward\u001b[0;34m(self, X, edge_index, edge_weight, H, C, lambda_max)\u001b[0m\n\u001b[1;32m    229\u001b[0m H \u001b[38;5;241m=\u001b[39m \u001b[38;5;28mself\u001b[39m\u001b[38;5;241m.\u001b[39m_set_hidden_state(X, H)\n\u001b[1;32m    230\u001b[0m C \u001b[38;5;241m=\u001b[39m \u001b[38;5;28mself\u001b[39m\u001b[38;5;241m.\u001b[39m_set_cell_state(X, C)\n\u001b[0;32m--> 231\u001b[0m I \u001b[38;5;241m=\u001b[39m \u001b[38;5;28;43mself\u001b[39;49m\u001b[38;5;241;43m.\u001b[39;49m\u001b[43m_calculate_input_gate\u001b[49m\u001b[43m(\u001b[49m\u001b[43mX\u001b[49m\u001b[43m,\u001b[49m\u001b[43m \u001b[49m\u001b[43medge_index\u001b[49m\u001b[43m,\u001b[49m\u001b[43m \u001b[49m\u001b[43medge_weight\u001b[49m\u001b[43m,\u001b[49m\u001b[43m \u001b[49m\u001b[43mH\u001b[49m\u001b[43m,\u001b[49m\u001b[43m \u001b[49m\u001b[43mC\u001b[49m\u001b[43m,\u001b[49m\u001b[43m \u001b[49m\u001b[43mlambda_max\u001b[49m\u001b[43m)\u001b[49m\n\u001b[1;32m    232\u001b[0m F \u001b[38;5;241m=\u001b[39m \u001b[38;5;28mself\u001b[39m\u001b[38;5;241m.\u001b[39m_calculate_forget_gate(X, edge_index, edge_weight, H, C, lambda_max)\n\u001b[1;32m    233\u001b[0m C \u001b[38;5;241m=\u001b[39m \u001b[38;5;28mself\u001b[39m\u001b[38;5;241m.\u001b[39m_calculate_cell_state(X, edge_index, edge_weight, H, C, I, F, lambda_max)\n",
      "File \u001b[0;32m~/anaconda3/envs/traffic/lib/python3.11/site-packages/torch_geometric_temporal/nn/recurrent/gconv_lstm.py:168\u001b[0m, in \u001b[0;36mGConvLSTM._calculate_input_gate\u001b[0;34m(self, X, edge_index, edge_weight, H, C, lambda_max)\u001b[0m\n\u001b[1;32m    166\u001b[0m \u001b[38;5;28;01mdef\u001b[39;00m \u001b[38;5;21m_calculate_input_gate\u001b[39m(\u001b[38;5;28mself\u001b[39m, X, edge_index, edge_weight, H, C, lambda_max):\n\u001b[1;32m    167\u001b[0m     I \u001b[38;5;241m=\u001b[39m \u001b[38;5;28mself\u001b[39m\u001b[38;5;241m.\u001b[39mconv_x_i(X, edge_index, edge_weight, lambda_max\u001b[38;5;241m=\u001b[39mlambda_max)\n\u001b[0;32m--> 168\u001b[0m     I \u001b[38;5;241m=\u001b[39m I \u001b[38;5;241m+\u001b[39m \u001b[38;5;28;43mself\u001b[39;49m\u001b[38;5;241;43m.\u001b[39;49m\u001b[43mconv_h_i\u001b[49m\u001b[43m(\u001b[49m\u001b[43mH\u001b[49m\u001b[43m,\u001b[49m\u001b[43m \u001b[49m\u001b[43medge_index\u001b[49m\u001b[43m,\u001b[49m\u001b[43m \u001b[49m\u001b[43medge_weight\u001b[49m\u001b[43m,\u001b[49m\u001b[43m \u001b[49m\u001b[43mlambda_max\u001b[49m\u001b[38;5;241;43m=\u001b[39;49m\u001b[43mlambda_max\u001b[49m\u001b[43m)\u001b[49m\n\u001b[1;32m    169\u001b[0m     I \u001b[38;5;241m=\u001b[39m I \u001b[38;5;241m+\u001b[39m (\u001b[38;5;28mself\u001b[39m\u001b[38;5;241m.\u001b[39mw_c_i \u001b[38;5;241m*\u001b[39m C)\n\u001b[1;32m    170\u001b[0m     I \u001b[38;5;241m=\u001b[39m I \u001b[38;5;241m+\u001b[39m \u001b[38;5;28mself\u001b[39m\u001b[38;5;241m.\u001b[39mb_i\n",
      "File \u001b[0;32m~/anaconda3/envs/traffic/lib/python3.11/site-packages/torch/nn/modules/module.py:1511\u001b[0m, in \u001b[0;36mModule._wrapped_call_impl\u001b[0;34m(self, *args, **kwargs)\u001b[0m\n\u001b[1;32m   1509\u001b[0m     \u001b[38;5;28;01mreturn\u001b[39;00m \u001b[38;5;28mself\u001b[39m\u001b[38;5;241m.\u001b[39m_compiled_call_impl(\u001b[38;5;241m*\u001b[39margs, \u001b[38;5;241m*\u001b[39m\u001b[38;5;241m*\u001b[39mkwargs)  \u001b[38;5;66;03m# type: ignore[misc]\u001b[39;00m\n\u001b[1;32m   1510\u001b[0m \u001b[38;5;28;01melse\u001b[39;00m:\n\u001b[0;32m-> 1511\u001b[0m     \u001b[38;5;28;01mreturn\u001b[39;00m \u001b[38;5;28;43mself\u001b[39;49m\u001b[38;5;241;43m.\u001b[39;49m\u001b[43m_call_impl\u001b[49m\u001b[43m(\u001b[49m\u001b[38;5;241;43m*\u001b[39;49m\u001b[43margs\u001b[49m\u001b[43m,\u001b[49m\u001b[43m \u001b[49m\u001b[38;5;241;43m*\u001b[39;49m\u001b[38;5;241;43m*\u001b[39;49m\u001b[43mkwargs\u001b[49m\u001b[43m)\u001b[49m\n",
      "File \u001b[0;32m~/anaconda3/envs/traffic/lib/python3.11/site-packages/torch/nn/modules/module.py:1520\u001b[0m, in \u001b[0;36mModule._call_impl\u001b[0;34m(self, *args, **kwargs)\u001b[0m\n\u001b[1;32m   1515\u001b[0m \u001b[38;5;66;03m# If we don't have any hooks, we want to skip the rest of the logic in\u001b[39;00m\n\u001b[1;32m   1516\u001b[0m \u001b[38;5;66;03m# this function, and just call forward.\u001b[39;00m\n\u001b[1;32m   1517\u001b[0m \u001b[38;5;28;01mif\u001b[39;00m \u001b[38;5;129;01mnot\u001b[39;00m (\u001b[38;5;28mself\u001b[39m\u001b[38;5;241m.\u001b[39m_backward_hooks \u001b[38;5;129;01mor\u001b[39;00m \u001b[38;5;28mself\u001b[39m\u001b[38;5;241m.\u001b[39m_backward_pre_hooks \u001b[38;5;129;01mor\u001b[39;00m \u001b[38;5;28mself\u001b[39m\u001b[38;5;241m.\u001b[39m_forward_hooks \u001b[38;5;129;01mor\u001b[39;00m \u001b[38;5;28mself\u001b[39m\u001b[38;5;241m.\u001b[39m_forward_pre_hooks\n\u001b[1;32m   1518\u001b[0m         \u001b[38;5;129;01mor\u001b[39;00m _global_backward_pre_hooks \u001b[38;5;129;01mor\u001b[39;00m _global_backward_hooks\n\u001b[1;32m   1519\u001b[0m         \u001b[38;5;129;01mor\u001b[39;00m _global_forward_hooks \u001b[38;5;129;01mor\u001b[39;00m _global_forward_pre_hooks):\n\u001b[0;32m-> 1520\u001b[0m     \u001b[38;5;28;01mreturn\u001b[39;00m \u001b[43mforward_call\u001b[49m\u001b[43m(\u001b[49m\u001b[38;5;241;43m*\u001b[39;49m\u001b[43margs\u001b[49m\u001b[43m,\u001b[49m\u001b[43m \u001b[49m\u001b[38;5;241;43m*\u001b[39;49m\u001b[38;5;241;43m*\u001b[39;49m\u001b[43mkwargs\u001b[49m\u001b[43m)\u001b[49m\n\u001b[1;32m   1522\u001b[0m \u001b[38;5;28;01mtry\u001b[39;00m:\n\u001b[1;32m   1523\u001b[0m     result \u001b[38;5;241m=\u001b[39m \u001b[38;5;28;01mNone\u001b[39;00m\n",
      "File \u001b[0;32m~/anaconda3/envs/traffic/lib/python3.11/site-packages/torch_geometric/nn/conv/cheb_conv.py:151\u001b[0m, in \u001b[0;36mChebConv.forward\u001b[0;34m(self, x, edge_index, edge_weight, batch, lambda_max)\u001b[0m\n\u001b[1;32m    142\u001b[0m \u001b[38;5;28;01mdef\u001b[39;00m \u001b[38;5;21mforward\u001b[39m(\n\u001b[1;32m    143\u001b[0m     \u001b[38;5;28mself\u001b[39m,\n\u001b[1;32m    144\u001b[0m     x: Tensor,\n\u001b[0;32m   (...)\u001b[0m\n\u001b[1;32m    148\u001b[0m     lambda_max: OptTensor \u001b[38;5;241m=\u001b[39m \u001b[38;5;28;01mNone\u001b[39;00m,\n\u001b[1;32m    149\u001b[0m ) \u001b[38;5;241m-\u001b[39m\u001b[38;5;241m>\u001b[39m Tensor:\n\u001b[0;32m--> 151\u001b[0m     edge_index, norm \u001b[38;5;241m=\u001b[39m \u001b[38;5;28;43mself\u001b[39;49m\u001b[38;5;241;43m.\u001b[39;49m\u001b[43m__norm__\u001b[49m\u001b[43m(\u001b[49m\n\u001b[1;32m    152\u001b[0m \u001b[43m        \u001b[49m\u001b[43medge_index\u001b[49m\u001b[43m,\u001b[49m\n\u001b[1;32m    153\u001b[0m \u001b[43m        \u001b[49m\u001b[43mx\u001b[49m\u001b[38;5;241;43m.\u001b[39;49m\u001b[43msize\u001b[49m\u001b[43m(\u001b[49m\u001b[38;5;28;43mself\u001b[39;49m\u001b[38;5;241;43m.\u001b[39;49m\u001b[43mnode_dim\u001b[49m\u001b[43m)\u001b[49m\u001b[43m,\u001b[49m\n\u001b[1;32m    154\u001b[0m \u001b[43m        \u001b[49m\u001b[43medge_weight\u001b[49m\u001b[43m,\u001b[49m\n\u001b[1;32m    155\u001b[0m \u001b[43m        \u001b[49m\u001b[38;5;28;43mself\u001b[39;49m\u001b[38;5;241;43m.\u001b[39;49m\u001b[43mnormalization\u001b[49m\u001b[43m,\u001b[49m\n\u001b[1;32m    156\u001b[0m \u001b[43m        \u001b[49m\u001b[43mlambda_max\u001b[49m\u001b[43m,\u001b[49m\n\u001b[1;32m    157\u001b[0m \u001b[43m        \u001b[49m\u001b[43mdtype\u001b[49m\u001b[38;5;241;43m=\u001b[39;49m\u001b[43mx\u001b[49m\u001b[38;5;241;43m.\u001b[39;49m\u001b[43mdtype\u001b[49m\u001b[43m,\u001b[49m\n\u001b[1;32m    158\u001b[0m \u001b[43m        \u001b[49m\u001b[43mbatch\u001b[49m\u001b[38;5;241;43m=\u001b[39;49m\u001b[43mbatch\u001b[49m\u001b[43m,\u001b[49m\n\u001b[1;32m    159\u001b[0m \u001b[43m    \u001b[49m\u001b[43m)\u001b[49m\n\u001b[1;32m    161\u001b[0m     Tx_0 \u001b[38;5;241m=\u001b[39m x\n\u001b[1;32m    162\u001b[0m     Tx_1 \u001b[38;5;241m=\u001b[39m x  \u001b[38;5;66;03m# Dummy.\u001b[39;00m\n",
      "File \u001b[0;32m~/anaconda3/envs/traffic/lib/python3.11/site-packages/torch_geometric/nn/conv/cheb_conv.py:119\u001b[0m, in \u001b[0;36mChebConv.__norm__\u001b[0;34m(self, edge_index, num_nodes, edge_weight, normalization, lambda_max, dtype, batch)\u001b[0m\n\u001b[1;32m    109\u001b[0m \u001b[38;5;28;01mdef\u001b[39;00m \u001b[38;5;21m__norm__\u001b[39m(\n\u001b[1;32m    110\u001b[0m     \u001b[38;5;28mself\u001b[39m,\n\u001b[1;32m    111\u001b[0m     edge_index: Tensor,\n\u001b[0;32m   (...)\u001b[0m\n\u001b[1;32m    117\u001b[0m     batch: OptTensor \u001b[38;5;241m=\u001b[39m \u001b[38;5;28;01mNone\u001b[39;00m,\n\u001b[1;32m    118\u001b[0m ):\n\u001b[0;32m--> 119\u001b[0m     edge_index, edge_weight \u001b[38;5;241m=\u001b[39m \u001b[43mget_laplacian\u001b[49m\u001b[43m(\u001b[49m\u001b[43medge_index\u001b[49m\u001b[43m,\u001b[49m\u001b[43m \u001b[49m\u001b[43medge_weight\u001b[49m\u001b[43m,\u001b[49m\n\u001b[1;32m    120\u001b[0m \u001b[43m                                            \u001b[49m\u001b[43mnormalization\u001b[49m\u001b[43m,\u001b[49m\u001b[43m \u001b[49m\u001b[43mdtype\u001b[49m\u001b[43m,\u001b[49m\n\u001b[1;32m    121\u001b[0m \u001b[43m                                            \u001b[49m\u001b[43mnum_nodes\u001b[49m\u001b[43m)\u001b[49m\n\u001b[1;32m    122\u001b[0m     \u001b[38;5;28;01massert\u001b[39;00m edge_weight \u001b[38;5;129;01mis\u001b[39;00m \u001b[38;5;129;01mnot\u001b[39;00m \u001b[38;5;28;01mNone\u001b[39;00m\n\u001b[1;32m    124\u001b[0m     \u001b[38;5;28;01mif\u001b[39;00m lambda_max \u001b[38;5;129;01mis\u001b[39;00m \u001b[38;5;28;01mNone\u001b[39;00m:\n",
      "File \u001b[0;32m~/anaconda3/envs/traffic/lib/python3.11/site-packages/torch_geometric/utils/laplacian.py:66\u001b[0m, in \u001b[0;36mget_laplacian\u001b[0;34m(edge_index, edge_weight, normalization, dtype, num_nodes)\u001b[0m\n\u001b[1;32m     62\u001b[0m \u001b[38;5;28;01mif\u001b[39;00m edge_weight \u001b[38;5;129;01mis\u001b[39;00m \u001b[38;5;28;01mNone\u001b[39;00m:\n\u001b[1;32m     63\u001b[0m     edge_weight \u001b[38;5;241m=\u001b[39m torch\u001b[38;5;241m.\u001b[39mones(edge_index\u001b[38;5;241m.\u001b[39msize(\u001b[38;5;241m1\u001b[39m), dtype\u001b[38;5;241m=\u001b[39mdtype,\n\u001b[1;32m     64\u001b[0m                              device\u001b[38;5;241m=\u001b[39medge_index\u001b[38;5;241m.\u001b[39mdevice)\n\u001b[0;32m---> 66\u001b[0m num_nodes \u001b[38;5;241m=\u001b[39m \u001b[43mmaybe_num_nodes\u001b[49m\u001b[43m(\u001b[49m\u001b[43medge_index\u001b[49m\u001b[43m,\u001b[49m\u001b[43m \u001b[49m\u001b[43mnum_nodes\u001b[49m\u001b[43m)\u001b[49m\n\u001b[1;32m     68\u001b[0m row, col \u001b[38;5;241m=\u001b[39m edge_index[\u001b[38;5;241m0\u001b[39m], edge_index[\u001b[38;5;241m1\u001b[39m]\n\u001b[1;32m     69\u001b[0m deg \u001b[38;5;241m=\u001b[39m scatter(edge_weight, row, \u001b[38;5;241m0\u001b[39m, dim_size\u001b[38;5;241m=\u001b[39mnum_nodes, reduce\u001b[38;5;241m=\u001b[39m\u001b[38;5;124m'\u001b[39m\u001b[38;5;124msum\u001b[39m\u001b[38;5;124m'\u001b[39m)\n",
      "File \u001b[0;32m~/anaconda3/envs/traffic/lib/python3.11/site-packages/torch_geometric/utils/num_nodes.py:12\u001b[0m, in \u001b[0;36mmaybe_num_nodes\u001b[0;34m(edge_index, num_nodes)\u001b[0m\n\u001b[1;32m      8\u001b[0m \u001b[38;5;28;01mfrom\u001b[39;00m \u001b[38;5;21;01mtorch_geometric\u001b[39;00m \u001b[38;5;28;01mimport\u001b[39;00m EdgeIndex\n\u001b[1;32m      9\u001b[0m \u001b[38;5;28;01mfrom\u001b[39;00m \u001b[38;5;21;01mtorch_geometric\u001b[39;00m\u001b[38;5;21;01m.\u001b[39;00m\u001b[38;5;21;01mtyping\u001b[39;00m \u001b[38;5;28;01mimport\u001b[39;00m EdgeType, NodeType, SparseTensor\n\u001b[0;32m---> 12\u001b[0m \u001b[38;5;28;01mdef\u001b[39;00m \u001b[38;5;21mmaybe_num_nodes\u001b[39m(\n\u001b[1;32m     13\u001b[0m     edge_index: Union[Tensor, Tuple[Tensor, Tensor], SparseTensor],\n\u001b[1;32m     14\u001b[0m     num_nodes: Optional[\u001b[38;5;28mint\u001b[39m] \u001b[38;5;241m=\u001b[39m \u001b[38;5;28;01mNone\u001b[39;00m,\n\u001b[1;32m     15\u001b[0m ) \u001b[38;5;241m-\u001b[39m\u001b[38;5;241m>\u001b[39m \u001b[38;5;28mint\u001b[39m:\n\u001b[1;32m     16\u001b[0m     \u001b[38;5;28;01mif\u001b[39;00m num_nodes \u001b[38;5;129;01mis\u001b[39;00m \u001b[38;5;129;01mnot\u001b[39;00m \u001b[38;5;28;01mNone\u001b[39;00m:\n\u001b[1;32m     17\u001b[0m         \u001b[38;5;28;01mreturn\u001b[39;00m num_nodes\n",
      "\u001b[0;31mKeyboardInterrupt\u001b[0m: "
     ]
    }
   ],
   "source": [
    "t = tqdm(range(400),leave=True)\n",
    "\n",
    "for epoch in t:\n",
    "    scale_factor = np.random.choice(np.arange(0.8,1.25,0.05))\n",
    "    model.train()\n",
    "    \n",
    "    H = None\n",
    "    C = None\n",
    "    \n",
    "    \n",
    "    cost = torch.zeros(1)\n",
    "    for time, snapshot in enumerate(train_iter):\n",
    "        augment_y = scale_factor * snapshot.y\n",
    "        augmented_xf = snapshot.x[:,:10] * scale_factor\n",
    "        augmented_x = snapshot.x\n",
    "        augmented_x[:,:10] = augmented_xf\n",
    "        y_hat,H,C = model(augmented_x, snapshot.edge_index, H, C)\n",
    "        \n",
    "        cost = cost + loss(y_hat,augment_y)#torch.mean((y_hat-snapshot.y)**2)\n",
    "        if time == 1000:\n",
    "            train_loss.append(cost.detach()/batch_size)\n",
    "        if time%batch_size == 0 or time == 1260:\n",
    "            cost.backward()\n",
    "            optimizer.step()\n",
    "            \n",
    "            optimizer.zero_grad()\n",
    "            cost = 0\n",
    "            H = H.detach()\n",
    "            C = C.detach()\n",
    "        \n",
    "    with torch.no_grad():\n",
    "        H_t = None\n",
    "        C_t = None\n",
    "        model.eval()\n",
    "        test_cost = 0\n",
    "        for ttime, tsnapshot in enumerate(test_iter):\n",
    "            pred,H_t,C_t = model(tsnapshot.x, tsnapshot.edge_index, H_t,C_t)\n",
    "            test_cost = test_cost + loss(pred,tsnapshot.y)\n",
    "            previous = tsnapshot.y\n",
    "            \n",
    "        test_cost = test_cost / (ttime+1)\n",
    "        test_cost = test_cost.item()\n",
    "        test_loss.append(test_cost)\n",
    "        \n",
    "    \n",
    "    if epoch % 5 == 0:\n",
    "        torch.save(model.state_dict(),f'models/modelat{len(test_loss)}.pth')\n",
    "    t.set_description(f'train MSE:{train_loss[-1].item():3f}, test MSE:{test_loss[-1]:3f}')\n",
    "    "
   ]
  },
  {
   "cell_type": "code",
   "execution_count": 27,
   "metadata": {},
   "outputs": [
    {
     "data": {
      "text/plain": [
       "[<matplotlib.lines.Line2D at 0x15c0ad050>]"
      ]
     },
     "execution_count": 27,
     "metadata": {},
     "output_type": "execute_result"
    },
    {
     "data": {
      "image/png": "[encoded data removed]",
      "text/plain": [
       "<Figure size 640x480 with 1 Axes>"
      ]
     },
     "metadata": {},
     "output_type": "display_data"
    }
   ],
   "source": [
    "#plt.plot(train_loss[-200:])\n",
    "plt.plot(test_loss[-200:])\n"
   ]
  },
  {
   "cell_type": "code",
   "execution_count": null,
   "metadata": {},
   "outputs": [],
   "source": [
    "H_t = None\n",
    "C_t = None\n",
    "preds = []\n",
    "true = []\n",
    "model.eval()\n",
    "test_cost = 0\n",
    "for ttime, tsnapshot in enumerate(test_iter):\n",
    "    pred,H_t,C_t = model(tsnapshot.x, tsnapshot.edge_index, H_t,C_t)\n",
    "    test_cost = test_cost + loss(pred,tsnapshot.y)\n",
    "    preds.append(pred.detach().numpy())\n",
    "    true.append(tsnapshot.y.detach().numpy())\n",
    "    # if ttime%batch_size == 0:\n",
    "    #     H_t = None\n",
    "    #     C_t = None\n",
    "test_cost = test_cost / (ttime+1)\n",
    "test_cost = test_cost.item()\n",
    "test_loss.append(test_cost)"
   ]
  },
  {
   "cell_type": "code",
   "execution_count": null,
   "metadata": {},
   "outputs": [],
   "source": [
    "test_cost"
   ]
  },
  {
   "cell_type": "code",
   "execution_count": null,
   "metadata": {},
   "outputs": [],
   "source": [
    "preds = np.array(preds).reshape((840,36))\n",
    "true = np.array(true)"
   ]
  },
  {
   "cell_type": "code",
   "execution_count": null,
   "metadata": {},
   "outputs": [],
   "source": [
    "preds.shape\n",
    "#true.shape"
   ]
  },
  {
   "cell_type": "code",
   "execution_count": null,
   "metadata": {},
   "outputs": [],
   "source": [
    "for s in range(36):\n",
    "    plt.plot(true[:,s])\n",
    "    plt.plot(preds[:,s])\n",
    "    plt.show()\n",
    "    "
   ]
  },
  {
   "cell_type": "code",
   "execution_count": null,
   "metadata": {},
   "outputs": [],
   "source": [
    "plt.plot(train_loss[600:])"
   ]
  },
  {
   "cell_type": "code",
   "execution_count": null,
   "metadata": {},
   "outputs": [],
   "source": [
    "test_loss"
   ]
  },
  {
   "cell_type": "code",
   "execution_count": null,
   "metadata": {},
   "outputs": [],
   "source": [
    "for g in optimizer.param_groups:\n",
    "    g['weight_decay'] == 0"
   ]
  },
  {
   "cell_type": "code",
   "execution_count": 23,
   "metadata": {},
   "outputs": [
    {
     "data": {
      "text/plain": [
       "0.0001"
      ]
     },
     "execution_count": 23,
     "metadata": {},
     "output_type": "execute_result"
    }
   ],
   "source": [
    "optimizer.param_groups[0]['lr']"
   ]
  },
  {
   "cell_type": "code",
   "execution_count": 24,
   "metadata": {},
   "outputs": [],
   "source": [
    "for g in optimizer.param_groups:\n",
    "    g['lr'] = 0.00001"
   ]
  },
  {
   "cell_type": "code",
   "execution_count": null,
   "metadata": {},
   "outputs": [],
   "source": [
    "plt.plot(test_loss[50:])"
   ]
  },
  {
   "cell_type": "code",
   "execution_count": null,
   "metadata": {},
   "outputs": [],
   "source": [
    "plt.plot(test_loss[60:])"
   ]
  },
  {
   "cell_type": "code",
   "execution_count": null,
   "metadata": {},
   "outputs": [],
   "source": [
    "c = 0\n",
    "v = np.min(test_loss)\n",
    "for i,b in enumerate(test_loss):\n",
    "    if b == v:\n",
    "        print(i)"
   ]
  },
  {
   "cell_type": "code",
   "execution_count": null,
   "metadata": {},
   "outputs": [],
   "source": [
    "np.min(test_loss)"
   ]
  },
  {
   "cell_type": "code",
   "execution_count": null,
   "metadata": {},
   "outputs": [],
   "source": [
    "def objective(config):\n",
    "\n",
    "    class GLSTM(torch.nn.Module):\n",
    "        def __init__(self, node_features, filters,num_edges):\n",
    "            super(GLSTM, self).__init__()\n",
    "            self.recurrentin = GConvLSTM(node_features, filters, config['K'])\n",
    "            self.recurrent = nn.ModuleList([GConvLSTM(filters, filters, config['K']) for _ in range(config['GNN_cells']-1)])\n",
    "                                       \n",
    "            \n",
    "            self.edge_weight = nn.Parameter(torch.ones(num_edges,dtype=torch.float))\n",
    "            self.Lw = nn.Parameter(torch.ones((36,filters),dtype=torch.float))\n",
    "            self.Lb = nn.Parameter(torch.zeros(36,dtype=torch.float))\n",
    "            \n",
    "        def forward(self, x, edge_index, hidden_state, cell_state):\n",
    "            hs = []\n",
    "            cs = []\n",
    "            \n",
    "            h,c = self.recurrentin(x, edge_index, self.edge_weight,H=hidden_state[0],C=cell_state[0])\n",
    "            hs.append(h)\n",
    "            cs.append(c)\n",
    "\n",
    "            for i,cell in enumerate(self.recurrent):\n",
    "                h_n,c_n = cell(hs[-1], edge_index, self.edge_weight,H=hidden_state[i+1],C=cell_state[i+1])\n",
    "                hs.append(h_n)\n",
    "                cs.append(c_n)\n",
    "\n",
    "            y = F.relu(hs[-1])\n",
    "\n",
    "            y = torch.tensordot(self.Lw,y,dims=2)\n",
    "            y = torch.add(y,self.Lb)\n",
    "\n",
    "            return y,hs,cs\n",
    "        \n",
    "    \n",
    "    model = GLSTM(node_features=48,filters=config['filters'],num_edges=43)\n",
    "    optimizer = torch.optim.Adam(model.parameters(), lr=0.001)\n",
    "    batch_size = config['batch_size']\n",
    "    test_loss = []\n",
    "    \n",
    "\n",
    "    for epoch in range(200):\n",
    "        model.train()\n",
    "        \n",
    "        H = [None for _ in range(config['GNN_cells'])]\n",
    "        C = [None for _ in range(config['GNN_cells'])]\n",
    "        cost = torch.zeros(1)\n",
    "        for time, snapshot in enumerate(train_iter):\n",
    "            y_hat,H,C = model(snapshot.x, snapshot.edge_index, H, C)\n",
    "            cost = cost + torch.mean((y_hat-snapshot.y)**2)\n",
    "            \n",
    "            if time%batch_size == 0 or time == 1260:\n",
    "                cost.backward()\n",
    "                optimizer.step()\n",
    "                optimizer.zero_grad()\n",
    "                cost = 0\n",
    "                H = [None for _ in range(config['GNN_cells'])]\n",
    "                C = [None for _ in range(config['GNN_cells'])]\n",
    "        with torch.no_grad():\n",
    "            H_t = [None for _ in range(config['GNN_cells'])]\n",
    "            C_t = [None for _ in range(config['GNN_cells'])]\n",
    "            model.eval()\n",
    "            test_cost = 0\n",
    "            for ttime, tsnapshot in enumerate(test_iter):\n",
    "                pred,H_t,C_t = model(tsnapshot.x, tsnapshot.edge_index, H_t,C_t)\n",
    "                test_cost = test_cost + torch.mean((pred-tsnapshot.y)**2)\n",
    "\n",
    "            test_cost = test_cost / (ttime+1)\n",
    "            test_cost = test_cost.item()\n",
    "            test_loss.append(test_cost)\n",
    "    \n",
    "    return np.min(test_loss)\n",
    "    "
   ]
  },
  {
   "cell_type": "code",
   "execution_count": null,
   "metadata": {},
   "outputs": [],
   "source": [
    "from ray import train, tune\n",
    "\n",
    "search_space = {\n",
    "    'batch_size':tune.grid_search([3,4,5,6,7]),\n",
    "    'GNN_cells':tune.grid_search([1,2,3]),\n",
    "    'K':tune.choice([2,3,4,5]), \n",
    "    'filters':tune.choice(range(10,36))\n",
    "}\n",
    "tuner = tune.Tuner(objective, param_space=search_space)  # ③\n",
    "\n",
    "results = tuner.fit()\n",
    "print(results.get_best_result(metric=\"score\", mode=\"min\").config)"
   ]
  },
  {
   "cell_type": "code",
   "execution_count": null,
   "metadata": {},
   "outputs": [],
   "source": [
    "print(results.get_best_result(metric=\"_metric\", mode=\"min\").config)"
   ]
  },
  {
   "cell_type": "code",
   "execution_count": null,
   "metadata": {},
   "outputs": [],
   "source": []
  }
 ],
 "metadata": {
  "kernelspec": {
   "display_name": "supplychain",
   "language": "python",
   "name": "python3"
  },
  "language_info": {
   "codemirror_mode": {
    "name": "ipython",
    "version": 3
   },
   "file_extension": ".py",
   "mimetype": "text/x-python",
   "name": "python",
   "nbconvert_exporter": "python",
   "pygments_lexer": "ipython3",
   "version": "3.11.8"
  }
 },
 "nbformat": 4,
 "nbformat_minor": 2
}
