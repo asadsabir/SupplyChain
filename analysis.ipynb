{
 "cells": [
  {
   "cell_type": "code",
   "execution_count": 1,
   "metadata": {},
   "outputs": [
    {
     "name": "stderr",
     "output_type": "stream",
     "text": [
      "/Users/asadsabir/anaconda3/envs/traffic/lib/python3.11/site-packages/torch/nn/modules/loss.py:535: UserWarning: Using a target size (torch.Size([])) that is different to the input size (torch.Size([1])). This will likely lead to incorrect results due to broadcasting. Please ensure they have the same size.\n",
      "  return F.mse_loss(input, target, reduction=self.reduction)\n"
     ]
    }
   ],
   "source": [
    "from model import model,test_iter,train_iter\n",
    "import torch\n",
    "from torch import nn\n",
    "from torch_geometric.transforms import ToUndirected\n",
    "import seaborn as sns\n",
    "import numpy as np\n",
    "import matplotlib.pyplot as plt"
   ]
  },
  {
   "cell_type": "code",
   "execution_count": 2,
   "metadata": {},
   "outputs": [
    {
     "name": "stderr",
     "output_type": "stream",
     "text": [
      "/Users/asadsabir/anaconda3/envs/traffic/lib/python3.11/site-packages/torch/nn/modules/loss.py:535: UserWarning: Using a target size (torch.Size([])) that is different to the input size (torch.Size([1])). This will likely lead to incorrect results due to broadcasting. Please ensure they have the same size.\n",
      "  return F.mse_loss(input, target, reduction=self.reduction)\n"
     ]
    },
    {
     "name": "stdout",
     "output_type": "stream",
     "text": [
      "tensor(0.0021, grad_fn=<DivBackward0>)\n",
      "tensor(0.0012, grad_fn=<DivBackward0>)\n"
     ]
    }
   ],
   "source": [
    "loss = nn.MSELoss()\n",
    "vmse = torch.vmap(loss)\n",
    "undirect = ToUndirected()\n",
    "\n",
    "H_t = None\n",
    "C_t = None\n",
    "model.eval()\n",
    "mean_mse_te = 0\n",
    "for ttime, tsnapshot in enumerate(test_iter):\n",
    "    tsnapshot = undirect(tsnapshot)\n",
    "    pred,H_t,C_t = model(tsnapshot.x, tsnapshot.edge_index, H_t,C_t)\n",
    "    mean_mse_te = mean_mse_te + torch.mean(vmse(pred,tsnapshot.y))\n",
    "\n",
    "    if ttime % 4 == 0:\n",
    "        H_t = None\n",
    "print(mean_mse_te/(ttime+1))\n",
    "\n",
    "\n",
    "H_t = None\n",
    "C_t = None\n",
    "model.eval()\n",
    "mean_mse_te = 0\n",
    "for ttime, tsnapshot in enumerate(train_iter):\n",
    "    tsnapshot = undirect(tsnapshot)\n",
    "    pred,H_t,C_t = model(tsnapshot.x, tsnapshot.edge_index, H_t,C_t)\n",
    "    mean_mse_te = mean_mse_te + torch.mean(vmse(pred,tsnapshot.y))\n",
    "\n",
    "    if ttime % 4 == 0:\n",
    "        H_t = None\n",
    "print(mean_mse_te/(ttime+1))"
   ]
  },
  {
   "cell_type": "code",
   "execution_count": 3,
   "metadata": {},
   "outputs": [
    {
     "name": "stdout",
     "output_type": "stream",
     "text": [
      "edge_weight\n",
      "recurrent.w_c_i\n",
      "recurrent.b_i\n",
      "recurrent.w_c_f\n",
      "recurrent.b_f\n",
      "recurrent.b_c\n",
      "recurrent.w_c_o\n",
      "recurrent.b_o\n",
      "recurrent.conv_x_i.bias\n",
      "recurrent.conv_x_i.lins.0.weight\n",
      "recurrent.conv_x_i.lins.1.weight\n",
      "recurrent.conv_x_i.lins.2.weight\n",
      "recurrent.conv_h_i.bias\n",
      "recurrent.conv_h_i.lins.0.weight\n",
      "recurrent.conv_h_i.lins.1.weight\n",
      "recurrent.conv_h_i.lins.2.weight\n",
      "recurrent.conv_x_f.bias\n",
      "recurrent.conv_x_f.lins.0.weight\n",
      "recurrent.conv_x_f.lins.1.weight\n",
      "recurrent.conv_x_f.lins.2.weight\n",
      "recurrent.conv_h_f.bias\n",
      "recurrent.conv_h_f.lins.0.weight\n",
      "recurrent.conv_h_f.lins.1.weight\n",
      "recurrent.conv_h_f.lins.2.weight\n",
      "recurrent.conv_x_c.bias\n",
      "recurrent.conv_x_c.lins.0.weight\n",
      "recurrent.conv_x_c.lins.1.weight\n",
      "recurrent.conv_x_c.lins.2.weight\n",
      "recurrent.conv_h_c.bias\n",
      "recurrent.conv_h_c.lins.0.weight\n",
      "recurrent.conv_h_c.lins.1.weight\n",
      "recurrent.conv_h_c.lins.2.weight\n",
      "recurrent.conv_x_o.bias\n",
      "recurrent.conv_x_o.lins.0.weight\n",
      "recurrent.conv_x_o.lins.1.weight\n",
      "recurrent.conv_x_o.lins.2.weight\n",
      "recurrent.conv_h_o.bias\n",
      "recurrent.conv_h_o.lins.0.weight\n",
      "recurrent.conv_h_o.lins.1.weight\n",
      "recurrent.conv_h_o.lins.2.weight\n",
      "sage.lin.weight\n",
      "sage.lin.bias\n",
      "sage.lin_l.weight\n",
      "sage.lin_l.bias\n",
      "sage.lin_r.weight\n"
     ]
    }
   ],
   "source": [
    "model_dict = model.state_dict()\n",
    "\n",
    "for k in model_dict.keys():\n",
    "    print(k)"
   ]
  },
  {
   "cell_type": "code",
   "execution_count": 4,
   "metadata": {},
   "outputs": [
    {
     "name": "stdout",
     "output_type": "stream",
     "text": [
      "recurrent.w_c_i torch.Size([1, 32])\n",
      "recurrent.b_i torch.Size([1, 32])\n",
      "recurrent.w_c_f torch.Size([1, 32])\n",
      "recurrent.b_f torch.Size([1, 32])\n",
      "recurrent.b_c torch.Size([1, 32])\n",
      "recurrent.w_c_o torch.Size([1, 32])\n",
      "recurrent.b_o torch.Size([1, 32])\n",
      "recurrent.conv_x_i.bias torch.Size([32])\n",
      "recurrent.conv_x_i.lins.0.weight torch.Size([32, 49])\n",
      "recurrent.conv_x_i.lins.1.weight torch.Size([32, 49])\n",
      "recurrent.conv_x_i.lins.2.weight torch.Size([32, 49])\n",
      "recurrent.conv_h_i.bias torch.Size([32])\n",
      "recurrent.conv_h_i.lins.0.weight torch.Size([32, 32])\n",
      "recurrent.conv_h_i.lins.1.weight torch.Size([32, 32])\n",
      "recurrent.conv_h_i.lins.2.weight torch.Size([32, 32])\n",
      "recurrent.conv_x_f.bias torch.Size([32])\n",
      "recurrent.conv_x_f.lins.0.weight torch.Size([32, 49])\n",
      "recurrent.conv_x_f.lins.1.weight torch.Size([32, 49])\n",
      "recurrent.conv_x_f.lins.2.weight torch.Size([32, 49])\n",
      "recurrent.conv_h_f.bias torch.Size([32])\n",
      "recurrent.conv_h_f.lins.0.weight torch.Size([32, 32])\n",
      "recurrent.conv_h_f.lins.1.weight torch.Size([32, 32])\n",
      "recurrent.conv_h_f.lins.2.weight torch.Size([32, 32])\n",
      "recurrent.conv_x_c.bias torch.Size([32])\n",
      "recurrent.conv_x_c.lins.0.weight torch.Size([32, 49])\n",
      "recurrent.conv_x_c.lins.1.weight torch.Size([32, 49])\n",
      "recurrent.conv_x_c.lins.2.weight torch.Size([32, 49])\n",
      "recurrent.conv_h_c.bias torch.Size([32])\n",
      "recurrent.conv_h_c.lins.0.weight torch.Size([32, 32])\n",
      "recurrent.conv_h_c.lins.1.weight torch.Size([32, 32])\n",
      "recurrent.conv_h_c.lins.2.weight torch.Size([32, 32])\n",
      "recurrent.conv_x_o.bias torch.Size([32])\n",
      "recurrent.conv_x_o.lins.0.weight torch.Size([32, 49])\n",
      "recurrent.conv_x_o.lins.1.weight torch.Size([32, 49])\n",
      "recurrent.conv_x_o.lins.2.weight torch.Size([32, 49])\n",
      "recurrent.conv_h_o.bias torch.Size([32])\n",
      "recurrent.conv_h_o.lins.0.weight torch.Size([32, 32])\n",
      "recurrent.conv_h_o.lins.1.weight torch.Size([32, 32])\n",
      "recurrent.conv_h_o.lins.2.weight torch.Size([32, 32])\n"
     ]
    }
   ],
   "source": [
    "for k,v in model_dict.items():\n",
    "\n",
    "    if 'recurrent' in k:\n",
    "        print(k,v.size())"
   ]
  },
  {
   "cell_type": "code",
   "execution_count": 5,
   "metadata": {},
   "outputs": [
    {
     "data": {
      "text/plain": [
       "tensor([[ 0,  0,  0,  0,  1,  1,  2,  2,  3,  4,  4,  4,  4,  4,  5,  5,  6,  6,\n",
       "          7,  8,  8,  9,  9, 10, 10, 11, 12, 12, 13, 13, 14, 14, 14, 14, 14, 15,\n",
       "         16, 16, 17, 17, 18, 18, 19, 19, 20, 20, 21, 21, 21, 21, 22, 22, 23, 23,\n",
       "         24, 24, 25, 25, 25, 25, 25, 25, 25, 26, 26, 26, 27, 28, 28, 29, 29, 29,\n",
       "         29, 29, 30, 30, 31, 31, 31, 32, 33, 33, 34, 34, 35, 35],\n",
       "        [ 1, 14, 25, 29,  0,  2,  1,  3,  2,  5, 21, 25, 26, 31,  4,  6,  5,  7,\n",
       "          6,  9, 10,  8, 12,  8, 13, 12,  9, 11, 10, 14,  0, 13, 25, 26, 31, 16,\n",
       "         15, 17, 16, 18, 17, 19, 18, 20, 19, 21,  4, 20, 25, 29, 23, 25, 22, 24,\n",
       "         23, 25,  0,  4, 14, 21, 22, 24, 29,  4, 14, 29, 28, 27, 35,  0, 21, 25,\n",
       "         26, 35, 32, 33,  4, 14, 34, 30, 30, 34, 31, 33, 28, 29]])"
      ]
     },
     "execution_count": 5,
     "metadata": {},
     "output_type": "execute_result"
    }
   ],
   "source": [
    "tsnapshot.edge_index"
   ]
  },
  {
   "cell_type": "code",
   "execution_count": 6,
   "metadata": {},
   "outputs": [],
   "source": [
    "ew_key = np.array(tsnapshot.edge_index)"
   ]
  },
  {
   "cell_type": "code",
   "execution_count": 7,
   "metadata": {},
   "outputs": [
    {
     "data": {
      "text/plain": [
       "tensor([0.8063, 0.9568, 0.7983, 1.0436, 1.0413, 0.9039, 0.9185, 0.9186, 0.9908,\n",
       "        0.9789, 0.9106, 0.9128, 0.9581, 0.9359, 0.8989, 0.9148, 0.8940, 1.0440,\n",
       "        0.8018, 1.0115, 0.8845, 0.8612, 0.9274, 0.9752, 1.1028, 0.8548, 0.9568,\n",
       "        0.9132, 0.8688, 0.8538, 0.9683, 0.9318, 0.8459, 0.7898, 0.8184, 0.7752,\n",
       "        0.9634, 0.9797, 0.8144, 1.0119, 0.8411, 1.0547, 0.8109, 1.0217, 0.9200,\n",
       "        0.9072, 0.8969, 0.9580, 0.9110, 1.0119, 0.8651, 0.9551, 0.9744, 0.8140,\n",
       "        0.9778, 1.0209, 0.9399, 0.8770, 1.0187, 0.7749, 1.0470, 0.8000, 1.1267,\n",
       "        0.9035, 1.0506, 1.0211, 1.0234, 0.8380, 0.9466, 0.8625, 0.6902, 0.7293,\n",
       "        0.6943, 1.1502, 0.9500, 0.9230, 0.9013, 0.9252, 0.9636, 0.8611, 0.9070,\n",
       "        1.0218, 0.8857, 0.8578, 0.9633, 0.8048])"
      ]
     },
     "execution_count": 7,
     "metadata": {},
     "output_type": "execute_result"
    }
   ],
   "source": [
    "model_dict['edge_weight']"
   ]
  },
  {
   "cell_type": "code",
   "execution_count": 8,
   "metadata": {},
   "outputs": [],
   "source": [
    "edge_weights = model_dict['edge_weight'].detach().numpy()"
   ]
  },
  {
   "cell_type": "code",
   "execution_count": 9,
   "metadata": {},
   "outputs": [],
   "source": [
    "avg_ew = []\n",
    "\n",
    "for i,edge in enumerate(zip(ew_key[0],ew_key[1])):\n",
    "    for j in range(i+1,86):\n",
    "        edge2 = (ew_key[0][j],ew_key[1][j])\n",
    "        if edge[0] == edge2[1] and edge[1] == edge2[0]:\n",
    "            avg_ew.append(np.mean(edge_weights[[i,j]]))"
   ]
  },
  {
   "cell_type": "code",
   "execution_count": 10,
   "metadata": {},
   "outputs": [
    {
     "data": {
      "text/plain": [
       "0.8429203"
      ]
     },
     "execution_count": 10,
     "metadata": {},
     "output_type": "execute_result"
    }
   ],
   "source": [
    "min(avg_ew)"
   ]
  },
  {
   "cell_type": "code",
   "execution_count": 11,
   "metadata": {},
   "outputs": [
    {
     "data": {
      "text/plain": [
       "1.0010267"
      ]
     },
     "execution_count": 11,
     "metadata": {},
     "output_type": "execute_result"
    }
   ],
   "source": [
    "max(avg_ew)"
   ]
  },
  {
   "cell_type": "code",
   "execution_count": 12,
   "metadata": {},
   "outputs": [],
   "source": [
    "np.save('average_edge_weights.npy',avg_ew)"
   ]
  },
  {
   "cell_type": "code",
   "execution_count": 13,
   "metadata": {},
   "outputs": [],
   "source": [
    "import torch\n",
    "from torch.nn import Parameter\n",
    "from torch_geometric.nn import ChebConv\n",
    "from torch_geometric.nn.inits import glorot, zeros\n",
    "\n",
    "\n",
    "class GConvLSTM_explained(torch.nn.Module):\n",
    "\n",
    "    def __init__(\n",
    "        self,\n",
    "        in_channels: int,\n",
    "        out_channels: int,\n",
    "        K: int,\n",
    "        normalization: str = \"sym\",\n",
    "        bias: bool = True,\n",
    "    ):\n",
    "        super(GConvLSTM_explained, self).__init__()\n",
    "\n",
    "        self.in_channels = in_channels\n",
    "        self.out_channels = out_channels\n",
    "        self.K = K\n",
    "        self.normalization = normalization\n",
    "        self.bias = bias\n",
    "        self._create_parameters_and_layers()\n",
    "        self._set_parameters()\n",
    "\n",
    "    def _create_input_gate_parameters_and_layers(self):\n",
    "\n",
    "        self.conv_x_i = ChebConv(\n",
    "            in_channels=self.in_channels,\n",
    "            out_channels=self.out_channels,\n",
    "            K=self.K,\n",
    "            normalization=self.normalization,\n",
    "            bias=self.bias,\n",
    "        )\n",
    "\n",
    "        self.conv_h_i = ChebConv(\n",
    "            in_channels=self.out_channels,\n",
    "            out_channels=self.out_channels,\n",
    "            K=self.K,\n",
    "            normalization=self.normalization,\n",
    "            bias=self.bias,\n",
    "        )\n",
    "\n",
    "        self.w_c_i = Parameter(torch.Tensor(1, self.out_channels))\n",
    "        self.b_i = Parameter(torch.Tensor(1, self.out_channels))\n",
    "\n",
    "    def _create_forget_gate_parameters_and_layers(self):\n",
    "\n",
    "        self.conv_x_f = ChebConv(\n",
    "            in_channels=self.in_channels,\n",
    "            out_channels=self.out_channels,\n",
    "            K=self.K,\n",
    "            normalization=self.normalization,\n",
    "            bias=self.bias,\n",
    "        )\n",
    "\n",
    "        self.conv_h_f = ChebConv(\n",
    "            in_channels=self.out_channels,\n",
    "            out_channels=self.out_channels,\n",
    "            K=self.K,\n",
    "            normalization=self.normalization,\n",
    "            bias=self.bias,\n",
    "        )\n",
    "\n",
    "        self.w_c_f = Parameter(torch.Tensor(1, self.out_channels))\n",
    "        self.b_f = Parameter(torch.Tensor(1, self.out_channels))\n",
    "\n",
    "    def _create_cell_state_parameters_and_layers(self):\n",
    "\n",
    "        self.conv_x_c = ChebConv(\n",
    "            in_channels=self.in_channels,\n",
    "            out_channels=self.out_channels,\n",
    "            K=self.K,\n",
    "            normalization=self.normalization,\n",
    "            bias=self.bias,\n",
    "        )\n",
    "\n",
    "        self.conv_h_c = ChebConv(\n",
    "            in_channels=self.out_channels,\n",
    "            out_channels=self.out_channels,\n",
    "            K=self.K,\n",
    "            normalization=self.normalization,\n",
    "            bias=self.bias,\n",
    "        )\n",
    "\n",
    "        self.b_c = Parameter(torch.Tensor(1, self.out_channels))\n",
    "\n",
    "    def _create_output_gate_parameters_and_layers(self):\n",
    "\n",
    "        self.conv_x_o = ChebConv(\n",
    "            in_channels=self.in_channels,\n",
    "            out_channels=self.out_channels,\n",
    "            K=self.K,\n",
    "            normalization=self.normalization,\n",
    "            bias=self.bias,\n",
    "        )\n",
    "\n",
    "        self.conv_h_o = ChebConv(\n",
    "            in_channels=self.out_channels,\n",
    "            out_channels=self.out_channels,\n",
    "            K=self.K,\n",
    "            normalization=self.normalization,\n",
    "            bias=self.bias,\n",
    "        )\n",
    "\n",
    "        self.w_c_o = Parameter(torch.Tensor(1, self.out_channels))\n",
    "        self.b_o = Parameter(torch.Tensor(1, self.out_channels))\n",
    "\n",
    "    def _create_parameters_and_layers(self):\n",
    "        self._create_input_gate_parameters_and_layers()\n",
    "        self._create_forget_gate_parameters_and_layers()\n",
    "        self._create_cell_state_parameters_and_layers()\n",
    "        self._create_output_gate_parameters_and_layers()\n",
    "\n",
    "    def _set_parameters(self):\n",
    "        glorot(self.w_c_i)\n",
    "        glorot(self.w_c_f)\n",
    "        glorot(self.w_c_o)\n",
    "        zeros(self.b_i)\n",
    "        zeros(self.b_f)\n",
    "        zeros(self.b_c)\n",
    "        zeros(self.b_o)\n",
    "\n",
    "    def _set_hidden_state(self, X, H):\n",
    "        if H is None:\n",
    "            H = torch.zeros(X.shape[0], self.out_channels).to(X.device)\n",
    "        return H\n",
    "\n",
    "    def _set_cell_state(self, X, C):\n",
    "        if C is None:\n",
    "            C = torch.zeros(X.shape[0], self.out_channels).to(X.device)\n",
    "        return C\n",
    "\n",
    "    def _calculate_input_gate(self, X, edge_index, edge_weight, H, C, lambda_max):\n",
    "        I = self.conv_x_i(X, edge_index, edge_weight, lambda_max=lambda_max)\n",
    "        I = I + self.conv_h_i(H, edge_index, edge_weight, lambda_max=lambda_max)\n",
    "        I = I + (self.w_c_i * C)\n",
    "        I = I + self.b_i\n",
    "        I = torch.sigmoid(I)\n",
    "        return I\n",
    "\n",
    "    def _calculate_forget_gate(self, X, edge_index, edge_weight, H, C, lambda_max):\n",
    "        F = self.conv_x_f(X, edge_index, edge_weight, lambda_max=lambda_max)\n",
    "        F = F + self.conv_h_f(H, edge_index, edge_weight, lambda_max=lambda_max)\n",
    "        F = F + (self.w_c_f * C)\n",
    "        F = F + self.b_f\n",
    "        F = torch.sigmoid(F)\n",
    "        return F\n",
    "\n",
    "    def _calculate_cell_state(self, X, edge_index, edge_weight, H, C, I, F, lambda_max):\n",
    "        T = self.conv_x_c(X, edge_index, edge_weight, lambda_max=lambda_max)\n",
    "        T = T + self.conv_h_c(H, edge_index, edge_weight, lambda_max=lambda_max)\n",
    "        T = T + self.b_c\n",
    "        T = torch.tanh(T)\n",
    "        C = F * C + I * T\n",
    "        return C\n",
    "\n",
    "    def _calculate_output_gate(self, X, edge_index, edge_weight, H, C, lambda_max):\n",
    "        O = self.conv_x_o(X, edge_index, edge_weight, lambda_max=lambda_max)\n",
    "        O = O + self.conv_h_o(H, edge_index, edge_weight, lambda_max=lambda_max)\n",
    "        O = O + (self.w_c_o * C)\n",
    "        O = O + self.b_o\n",
    "        O = torch.sigmoid(O)\n",
    "        return O\n",
    "\n",
    "    def _calculate_hidden_state(self, O, C):\n",
    "        H = O * torch.tanh(C)\n",
    "        return H\n",
    "\n",
    "    def forward(\n",
    "        self,\n",
    "        X: torch.FloatTensor,\n",
    "        edge_index: torch.LongTensor,\n",
    "        edge_weight: torch.FloatTensor = None,\n",
    "        H: torch.FloatTensor = None,\n",
    "        C: torch.FloatTensor = None,\n",
    "        lambda_max: torch.Tensor = None,\n",
    "    ) -> torch.FloatTensor:\n",
    "       \n",
    "        H = self._set_hidden_state(X, H)\n",
    "        C = self._set_cell_state(X, C)\n",
    "        I = self._calculate_input_gate(X, edge_index, edge_weight, H, C, lambda_max)\n",
    "        F = self._calculate_forget_gate(X, edge_index, edge_weight, H, C, lambda_max)\n",
    "        C = self._calculate_cell_state(X, edge_index, edge_weight, H, C, I, F, lambda_max)\n",
    "        O = self._calculate_output_gate(X, edge_index, edge_weight, H, C, lambda_max)\n",
    "        H = self._calculate_hidden_state(O, C)\n",
    "        return H, C, O, F, I"
   ]
  },
  {
   "cell_type": "code",
   "execution_count": 14,
   "metadata": {},
   "outputs": [],
   "source": [
    "from typing import List, Optional, Tuple, Union\n",
    "\n",
    "import torch.nn.functional as F\n",
    "from torch import Tensor\n",
    "\n",
    "from torch_geometric.nn.aggr import Aggregation, MultiAggregation\n",
    "from torch_geometric.nn.conv import MessagePassing\n",
    "from torch_geometric.nn.dense.linear import Linear\n",
    "from torch_geometric.typing import Adj, OptPairTensor, Size, SparseTensor\n",
    "from torch_geometric.utils import spmm\n",
    "from typing import (Any)\n",
    "from torch_geometric.utils import (\n",
    "    is_sparse\n",
    ")\n",
    "\n",
    "\n",
    "class SAGEConv_explained(MessagePassing):\n",
    "    def __init__(\n",
    "        self,\n",
    "        in_channels: Union[int, Tuple[int, int]],\n",
    "        out_channels: int,\n",
    "        aggr: Optional[Union[str, List[str], Aggregation]] = \"mean\",\n",
    "        normalize: bool = False,\n",
    "        root_weight: bool = True,\n",
    "        project: bool = False,\n",
    "        bias: bool = True,\n",
    "        **kwargs,\n",
    "    ):\n",
    "        self.in_channels = in_channels\n",
    "        self.out_channels = out_channels\n",
    "        self.normalize = normalize\n",
    "        self.root_weight = root_weight\n",
    "        self.project = project\n",
    "\n",
    "        if isinstance(in_channels, int):\n",
    "            in_channels = (in_channels, in_channels)\n",
    "\n",
    "        if aggr == 'lstm':\n",
    "            kwargs.setdefault('aggr_kwargs', {})\n",
    "            kwargs['aggr_kwargs'].setdefault('in_channels', in_channels[0])\n",
    "            kwargs['aggr_kwargs'].setdefault('out_channels', in_channels[0])\n",
    "\n",
    "        super().__init__(aggr, **kwargs)\n",
    "\n",
    "        if self.project:\n",
    "            if in_channels[0] <= 0:\n",
    "                raise ValueError(f\"'{self.__class__.__name__}' does not \"\n",
    "                                 f\"support lazy initialization with \"\n",
    "                                 f\"`project=True`\")\n",
    "            self.lin = Linear(in_channels[0], in_channels[0], bias=True)\n",
    "\n",
    "        if isinstance(self.aggr_module, MultiAggregation):\n",
    "            aggr_out_channels = self.aggr_module.get_out_channels(\n",
    "                in_channels[0])\n",
    "        else:\n",
    "            aggr_out_channels = in_channels[0]\n",
    "\n",
    "        self.lin_l = Linear(aggr_out_channels, out_channels, bias=bias)\n",
    "        if self.root_weight:\n",
    "            self.lin_r = Linear(in_channels[1], out_channels, bias=False)\n",
    "\n",
    "        self.reset_parameters()\n",
    "\n",
    "    def reset_parameters(self):\n",
    "        super().reset_parameters()\n",
    "        if self.project:\n",
    "            self.lin.reset_parameters()\n",
    "        self.lin_l.reset_parameters()\n",
    "        if self.root_weight:\n",
    "            self.lin_r.reset_parameters()\n",
    "\n",
    "    def forward(\n",
    "        self,\n",
    "        x: Union[Tensor, OptPairTensor],\n",
    "        edge_index: Adj,\n",
    "        size: Size = None,\n",
    "    ) -> Tensor:\n",
    "\n",
    "        if isinstance(x, Tensor):\n",
    "            x = (x, x)\n",
    "\n",
    "        if self.project and hasattr(self, 'lin'):\n",
    "            x = (self.lin(x[0]).relu(), x[1])\n",
    "\n",
    "        # propagate_type: (x: OptPairTensor)\n",
    "        out,x_j = self.propagate(edge_index, x=x, size=size)\n",
    "\n",
    "        neighbor_features = {}\n",
    "\n",
    "        #tsnapshot.edge_index\n",
    "        #record[1]\n",
    "        edge_diary = np.array(edge_index)\n",
    "        message = x_j\n",
    "        \n",
    "\n",
    "        for s in range(36):\n",
    "            neighbor_features[int(s)] = {}\n",
    "            \n",
    "            for i,val in enumerate(edge_diary[1]):\n",
    "                if val == s:\n",
    "                    neighbor_features[s][int(edge_diary[0][i])] = message[i]\n",
    "            \n",
    "            n_neighbors = len(neighbor_features[s].keys())\n",
    "            for n,v in neighbor_features[s].items():\n",
    "                v = v/(n_neighbors)\n",
    "                neighbor_features[s][n] = torch.dot(torch.reshape(self.lin_l.weight,(32,)),v)\n",
    "\n",
    "\n",
    "        out = self.lin_l(out)\n",
    "\n",
    "        x_r = x[1]\n",
    "        \n",
    "        if self.root_weight and x_r is not None:\n",
    "            root = self.lin_r(x_r)\n",
    "            \n",
    "            for s in range(36):\n",
    "                neighbor_features[s][s] = root[s]\n",
    "            out = out + root\n",
    "\n",
    "        if self.normalize:\n",
    "            out = F.normalize(out, p=2., dim=-1)\n",
    "        \n",
    "        return out,neighbor_features\n",
    "\n",
    "    def message(self, x_j: Tensor) -> Tensor:\n",
    "        return x_j\n",
    "\n",
    "    def message_and_aggregate(self, adj_t: Adj, x: OptPairTensor) -> Tensor:\n",
    "        if isinstance(adj_t, SparseTensor):\n",
    "            adj_t = adj_t.set_value(None, layout=None)\n",
    "        \n",
    "        return spmm(adj_t, x[0], reduce=self.aggr)\n",
    "\n",
    "    def __repr__(self) -> str:\n",
    "        return (f'{self.__class__.__name__}({self.in_channels}, '\n",
    "                f'{self.out_channels}, aggr={self.aggr})')\n",
    "    \n",
    "    def propagate(\n",
    "        self,\n",
    "        edge_index: Adj,\n",
    "        size: Size = None,\n",
    "        **kwargs: Any,\n",
    "    ) -> Tensor:\n",
    "        \n",
    "        decomposed_layers = 1 if self.explain else self.decomposed_layers\n",
    "\n",
    "        for hook in self._propagate_forward_pre_hooks.values():\n",
    "            res = hook(self, (edge_index, size, kwargs))\n",
    "            if res is not None:\n",
    "                edge_index, size, kwargs = res\n",
    "\n",
    "        mutable_size = self._check_input(edge_index, size)\n",
    "\n",
    "        # Run \"fused\" message and aggregation (if applicable).\n",
    "        if is_sparse(edge_index) and self.fuse and not self.explain:\n",
    "            coll_dict = self._collect(self._fused_user_args, edge_index,\n",
    "                                      mutable_size, kwargs)\n",
    "\n",
    "            msg_aggr_kwargs = self.inspector.collect_param_data(\n",
    "                'message_and_aggregate', coll_dict)\n",
    "            for hook in self._message_and_aggregate_forward_pre_hooks.values():\n",
    "                res = hook(self, (edge_index, msg_aggr_kwargs))\n",
    "                if res is not None:\n",
    "                    edge_index, msg_aggr_kwargs = res\n",
    "            out = self.message_and_aggregate(edge_index, **msg_aggr_kwargs)\n",
    "            for hook in self._message_and_aggregate_forward_hooks.values():\n",
    "                res = hook(self, (edge_index, msg_aggr_kwargs), out)\n",
    "                if res is not None:\n",
    "                    out = res\n",
    "\n",
    "            update_kwargs = self.inspector.collect_param_data(\n",
    "                'update', coll_dict)\n",
    "            out = self.update(out, **update_kwargs)\n",
    "\n",
    "        else:  # Otherwise, run both functions in separation.\n",
    "            \n",
    "            if decomposed_layers > 1:\n",
    "                user_args = self._user_args\n",
    "                decomp_args = {a[:-2] for a in user_args if a[-2:] == '_j'}\n",
    "                decomp_kwargs = {\n",
    "                    a: kwargs[a].chunk(decomposed_layers, -1)\n",
    "                    for a in decomp_args\n",
    "                }\n",
    "                decomp_out = []\n",
    "\n",
    "            for i in range(decomposed_layers):\n",
    "                if decomposed_layers > 1:\n",
    "                    for arg in decomp_args:\n",
    "                        kwargs[arg] = decomp_kwargs[arg][i]\n",
    "\n",
    "                coll_dict = self._collect(self._user_args, edge_index,\n",
    "                                          mutable_size, kwargs)\n",
    "\n",
    "                msg_kwargs = self.inspector.collect_param_data(\n",
    "                    'message', coll_dict)\n",
    "                for hook in self._message_forward_pre_hooks.values():\n",
    "                    res = hook(self, (msg_kwargs, ))\n",
    "                    if res is not None:\n",
    "                        msg_kwargs = res[0] if isinstance(res, tuple) else res\n",
    "                #record.append(msg_kwargs['x_j'].detach().numpy())\n",
    "                out = self.message(**msg_kwargs)\n",
    "                for hook in self._message_forward_hooks.values():\n",
    "                    res = hook(self, (msg_kwargs, ), out)\n",
    "                    if res is not None:\n",
    "                        out = res\n",
    "\n",
    "                if self.explain:\n",
    "                    explain_msg_kwargs = self.inspector.collect_param_data(\n",
    "                        'explain_message', coll_dict)\n",
    "                    out = self.explain_message(out, **explain_msg_kwargs)\n",
    "\n",
    "                aggr_kwargs = self.inspector.collect_param_data(\n",
    "                    'aggregate', coll_dict)\n",
    "                for hook in self._aggregate_forward_pre_hooks.values():\n",
    "                    res = hook(self, (aggr_kwargs, ))\n",
    "                    if res is not None:\n",
    "                        aggr_kwargs = res[0] if isinstance(res, tuple) else res\n",
    "\n",
    "                out = self.aggregate(out, **aggr_kwargs)\n",
    "                #record.append(('after aggregate',out.detach().numpy()))\n",
    "                for hook in self._aggregate_forward_hooks.values():\n",
    "                    res = hook(self, (aggr_kwargs, ), out)\n",
    "                    if res is not None:\n",
    "                        out = res\n",
    "\n",
    "                update_kwargs = self.inspector.collect_param_data(\n",
    "                    'update', coll_dict)\n",
    "                out = self.update(out, **update_kwargs)\n",
    "                #record.append(('after update',out.detach().numpy()))\n",
    "                if decomposed_layers > 1:\n",
    "                    decomp_out.append(out)\n",
    "\n",
    "            if decomposed_layers > 1:\n",
    "                out = torch.cat(decomp_out, dim=-1)\n",
    "\n",
    "        for hook in self._propagate_forward_hooks.values():\n",
    "            res = hook(self, (edge_index, mutable_size, kwargs), out)\n",
    "            if res is not None:\n",
    "                out = res\n",
    "\n",
    "        return out,msg_kwargs['x_j']"
   ]
  },
  {
   "cell_type": "code",
   "execution_count": 15,
   "metadata": {},
   "outputs": [],
   "source": [
    "class GLSTM_explained(torch.nn.Module):\n",
    "    def __init__(self, node_features, filters,num_edges):\n",
    "        super(GLSTM_explained, self).__init__()\n",
    "        self.recurrent = GConvLSTM_explained(node_features, filters, 3)\n",
    "        self.sage = SAGEConv_explained(filters,1,project=True)                           \n",
    "        self.edge_weight = nn.Parameter(torch.ones(num_edges,dtype=torch.float))\n",
    "        \n",
    "    def forward(self, x, edge_index, hidden_state, cell_state):\n",
    "        \n",
    "        h,c, o, f, i = self.recurrent(x, edge_index, self.edge_weight,H=hidden_state,C=cell_state)\n",
    "        \n",
    "        y = F.relu(h)\n",
    "        y,na = self.sage(y,edge_index)\n",
    "\n",
    "        return y,h,c,o,f,i,na"
   ]
  },
  {
   "cell_type": "code",
   "execution_count": 16,
   "metadata": {},
   "outputs": [
    {
     "data": {
      "text/plain": [
       "<All keys matched successfully>"
      ]
     },
     "execution_count": 16,
     "metadata": {},
     "output_type": "execute_result"
    }
   ],
   "source": [
    "model_explained = GLSTM_explained(49,32,86)\n",
    "model_explained.load_state_dict(model_dict)"
   ]
  },
  {
   "cell_type": "code",
   "execution_count": 17,
   "metadata": {},
   "outputs": [
    {
     "name": "stdout",
     "output_type": "stream",
     "text": [
      "tensor(0.0021, grad_fn=<DivBackward0>)\n"
     ]
    }
   ],
   "source": [
    "H_t = None\n",
    "C_t = None\n",
    "LSTM_gates_te = []\n",
    "neighbor_effects_te = []\n",
    "target_te = []\n",
    "model_explained.eval()\n",
    "mean_mse_te = 0\n",
    "for ttime, tsnapshot in enumerate(test_iter):\n",
    "    tsnapshot = undirect(tsnapshot)\n",
    "    pred,H_t,C_t,o,f,i,na = model_explained(tsnapshot.x, tsnapshot.edge_index, H_t,C_t)\n",
    "\n",
    "    LSTM_gates_te.append([H_t.detach(), C_t.detach(), o.detach(), f.detach(), i.detach()])\n",
    "    neighbor_effects_te.append(na)\n",
    "    target_te.append(pred)\n",
    "    \n",
    "    mean_mse_te = mean_mse_te + torch.mean(vmse(pred,tsnapshot.y))\n",
    "\n",
    "    if ttime % 4 == 0:\n",
    "        H_t = None\n",
    "print(mean_mse_te/(ttime+1))"
   ]
  },
  {
   "cell_type": "code",
   "execution_count": 20,
   "metadata": {},
   "outputs": [
    {
     "data": {
      "text/plain": [
       "tensor([0.3499], grad_fn=<AddBackward0>)"
      ]
     },
     "execution_count": 20,
     "metadata": {},
     "output_type": "execute_result"
    }
   ],
   "source": [
    "sum(neighbor_effects_te[0][0].values()) + model_dict['sage.lin_l.bias']"
   ]
  },
  {
   "cell_type": "code",
   "execution_count": 21,
   "metadata": {},
   "outputs": [
    {
     "data": {
      "text/plain": [
       "tensor([0.3499], grad_fn=<SelectBackward0>)"
      ]
     },
     "execution_count": 21,
     "metadata": {},
     "output_type": "execute_result"
    }
   ],
   "source": [
    "target_te[0][0]"
   ]
  },
  {
   "cell_type": "code",
   "execution_count": 22,
   "metadata": {},
   "outputs": [
    {
     "name": "stderr",
     "output_type": "stream",
     "text": [
      "/Users/asadsabir/anaconda3/envs/traffic/lib/python3.11/site-packages/torch/nn/modules/loss.py:535: UserWarning: Using a target size (torch.Size([])) that is different to the input size (torch.Size([1])). This will likely lead to incorrect results due to broadcasting. Please ensure they have the same size.\n",
      "  return F.mse_loss(input, target, reduction=self.reduction)\n"
     ]
    },
    {
     "name": "stdout",
     "output_type": "stream",
     "text": [
      "tensor(0.0012, grad_fn=<DivBackward0>)\n"
     ]
    }
   ],
   "source": [
    "H_t = None\n",
    "C_t = None\n",
    "LSTM_gates_tr = []\n",
    "neighbor_effects_tr = []\n",
    "target_tr = []\n",
    "model_explained.eval()\n",
    "mean_mse_tr = 0\n",
    "for ttime, tsnapshot in enumerate(train_iter):\n",
    "    tsnapshot = undirect(tsnapshot)\n",
    "    pred,H_t,C_t,o,f,i,na = model_explained(tsnapshot.x, tsnapshot.edge_index, H_t,C_t)\n",
    "\n",
    "    LSTM_gates_tr.append([H_t.detach(), C_t.detach(), o.detach(), f.detach(), i.detach()])\n",
    "    neighbor_effects_tr.append(na)\n",
    "    target_tr.append(pred)\n",
    "    \n",
    "    mean_mse_tr = mean_mse_tr + torch.mean(vmse(pred,tsnapshot.y))\n",
    "\n",
    "    if ttime % 4 == 0:\n",
    "        H_t = None\n",
    "print(mean_mse_tr/(ttime+1))"
   ]
  },
  {
   "cell_type": "code",
   "execution_count": 23,
   "metadata": {},
   "outputs": [],
   "source": [
    "np.save('LSTM_gates_te',LSTM_gates_te)\n",
    "np.save('LSTM_gates_tr',LSTM_gates_tr)"
   ]
  },
  {
   "cell_type": "code",
   "execution_count": 24,
   "metadata": {},
   "outputs": [
    {
     "name": "stderr",
     "output_type": "stream",
     "text": [
      "/var/folders/lw/r6bk51ln09vdlk9nc13qh7280000gn/T/ipykernel_87035/2288646311.py:4: DeprecationWarning: Conversion of an array with ndim > 0 to a scalar is deprecated, and will error in future. Ensure you extract a single element from your array before performing this operation. (Deprecated NumPy 1.25.)\n",
      "  neighbor_effects_te[i][k][n] = float(neighbor_effects_te[i][k][n].detach().numpy())\n",
      "/var/folders/lw/r6bk51ln09vdlk9nc13qh7280000gn/T/ipykernel_87035/2288646311.py:9: DeprecationWarning: Conversion of an array with ndim > 0 to a scalar is deprecated, and will error in future. Ensure you extract a single element from your array before performing this operation. (Deprecated NumPy 1.25.)\n",
      "  neighbor_effects_tr[i][k][n] = float(neighbor_effects_tr[i][k][n].detach().numpy())\n"
     ]
    }
   ],
   "source": [
    "for i,d in enumerate(neighbor_effects_te):\n",
    "    for k,v in d.items():\n",
    "        for n,a in v.items():\n",
    "            neighbor_effects_te[i][k][n] = float(neighbor_effects_te[i][k][n].detach().numpy())\n",
    "        \n",
    "for i,d in enumerate(neighbor_effects_tr):\n",
    "    for k,v in d.items():\n",
    "        for n,a in v.items():\n",
    "            neighbor_effects_tr[i][k][n] = float(neighbor_effects_tr[i][k][n].detach().numpy())\n",
    "        "
   ]
  },
  {
   "cell_type": "code",
   "execution_count": null,
   "metadata": {},
   "outputs": [],
   "source": [
    "import json\n",
    "\n",
    "with open('neighbor_effects_te.json',\"w\") as f:\n",
    "    json.dump(neighbor_effects_te,f)\n",
    "\n",
    "with open('neighbor_effects_tr.json',\"w\") as f:\n",
    "    json.dump(neighbor_effects_tr,f)"
   ]
  }
 ],
 "metadata": {
  "kernelspec": {
   "display_name": "traffic",
   "language": "python",
   "name": "python3"
  },
  "language_info": {
   "codemirror_mode": {
    "name": "ipython",
    "version": 3
   },
   "file_extension": ".py",
   "mimetype": "text/x-python",
   "name": "python",
   "nbconvert_exporter": "python",
   "pygments_lexer": "ipython3",
   "version": "3.11.8"
  }
 },
 "nbformat": 4,
 "nbformat_minor": 2
}
