{
 "cells": [
  {
   "cell_type": "code",
   "execution_count": null,
   "metadata": {},
   "outputs": [],
   "source": [
    "import pandas as pd\n",
    "import networkx as nx\n",
    "import matplotlib.pyplot as plt\n",
    "import seaborn as sns\n",
    "import pickle"
   ]
  },
  {
   "cell_type": "code",
   "execution_count": null,
   "metadata": {},
   "outputs": [],
   "source": [
    "G = pickle.load(open('graphs/graph.pkl','rb'))"
   ]
  },
  {
   "cell_type": "markdown",
   "metadata": {},
   "source": [
    "Edge Features\n",
    "\n",
    "1) Product Group\n",
    "2) Product Sub-Group\n",
    "3) Plant\n",
    "4) Storage Location\n",
    "\n",
    "Node Features\n",
    "\n",
    "1) Production\n",
    "2) Factory Issue\n",
    "3) Sales Order\n",
    "4) Delivery to distributor"
   ]
  },
  {
   "cell_type": "markdown",
   "metadata": {},
   "source": [
    "- 4 groups\n",
    "- 12 subgroups\n",
    "- 25 plants\n",
    "- 13 storage locations"
   ]
  },
  {
   "cell_type": "markdown",
   "metadata": {},
   "source": [
    "<h4>Product Groups and Sub-Groups<h4/>"
   ]
  },
  {
   "cell_type": "code",
   "execution_count": null,
   "metadata": {},
   "outputs": [],
   "source": [
    "product_groups = pd.read_csv('Raw Dataset/Homogenoeus/Nodes/Node Types (Product Group and Subgroup).csv')\n",
    "product_groups.drop_duplicates(inplace=True)\n",
    "product_groups.head()\n",
    "removed_products = ['EEA200G24P','EEA500G12P','MAC1K25P','MAP1K25P','MAPA1K24P','ATPA1K24P','ATPPCH5X5K','POP015K',\n",
    "                     'SO0005L04P','SO0002L09P',\t'SO0001L12P','SO0500M24P']\n",
    "product_groups = product_groups[[False if n in removed_products else True for n in product_groups['Node']]]"
   ]
  },
  {
   "cell_type": "code",
   "execution_count": null,
   "metadata": {},
   "outputs": [],
   "source": [
    "sns.barplot(product_groups['Group'].value_counts(),errorbar=('ci', False))\n",
    "plt.xlabel('Group Code');"
   ]
  },
  {
   "cell_type": "code",
   "execution_count": null,
   "metadata": {},
   "outputs": [],
   "source": [
    "sns.histplot(product_groups,x='Sub-Group',hue='Group',)\n",
    "plt.xticks(rotation=90);"
   ]
  },
  {
   "cell_type": "markdown",
   "metadata": {},
   "source": [
    "<h4>Edge Demographics</h4>"
   ]
  },
  {
   "cell_type": "code",
   "execution_count": null,
   "metadata": {},
   "outputs": [],
   "source": [
    "from matplotlib_venn import venn3\n",
    "group_set = set([i for i,t in enumerate(G.edges(data=True))if t[2]['GroupCode'] > 0] )\n",
    "subgroup_set = set([i for i,t in enumerate(G.edges(data=True))if t[2]['SubGroupCode'] > 0] )\n",
    "plant_set = set([i for i,t in enumerate(G.edges(data=True))if t[2]['Plant'] > 0] )\n",
    "storage_set = set([i for i,t in enumerate(G.edges(data=True))if t[2]['Storage Location'] > 0] )\n",
    "\n",
    "venn3([group_set,plant_set,storage_set],['Group','Plant','Storage']);"
   ]
  },
  {
   "cell_type": "markdown",
   "metadata": {},
   "source": [
    "- This venn diagram represents all 374 edges.\n",
    "- every edge except one includes atleast one shared storage location. Surprisingly, that one edge is between products of the same group"
   ]
  },
  {
   "cell_type": "code",
   "execution_count": null,
   "metadata": {},
   "outputs": [],
   "source": [
    "edges_df = pd.DataFrame([\n",
    "    [d['GroupCode'] for u,v,d in G.edges(data=True)],\n",
    "    [d['Plant'] for u,v,d in G.edges(data=True)],\n",
    "    [d['Storage Location'] for u,v,d in G.edges(data=True)],\n",
    "],index=['GroupCode','Plant','Storage Location']).T"
   ]
  },
  {
   "cell_type": "code",
   "execution_count": null,
   "metadata": {},
   "outputs": [],
   "source": [
    "sns.histplot(data=edges_df[edges_df['Plant'] > 0],x='Plant',hue='GroupCode',multiple='stack')\n",
    "\n",
    "plt.title('Edges with atleast one shared Plant');"
   ]
  },
  {
   "cell_type": "code",
   "execution_count": null,
   "metadata": {},
   "outputs": [],
   "source": [
    "sns.histplot(data=edges_df[edges_df['Storage Location'] > 0],x='Storage Location',hue='GroupCode',multiple='stack')\n",
    "\n",
    "plt.title('Edges with atleast one shared Storage Location');"
   ]
  },
  {
   "cell_type": "code",
   "execution_count": null,
   "metadata": {},
   "outputs": [],
   "source": [
    "sns.scatterplot(data=edges_df,x='Plant',y='Storage Location',hue='GroupCode');"
   ]
  },
  {
   "cell_type": "markdown",
   "metadata": {},
   "source": [
    "- Products that go to the same plants also go to the same storage locations which makes sense.\n",
    "- It also looks like Storage Locations take products from different plants. some product(s) even share 12 storage locations without sharing a plant or group"
   ]
  },
  {
   "cell_type": "markdown",
   "metadata": {},
   "source": [
    "<h4>Node Connectedness"
   ]
  },
  {
   "cell_type": "code",
   "execution_count": null,
   "metadata": {},
   "outputs": [],
   "source": [
    "degree_cents = nx.degree_centrality(G)\n",
    "\n",
    "sns.histplot(list(degree_cents.values()))\n",
    "plt.xlabel('degree centrality');"
   ]
  },
  {
   "cell_type": "code",
   "execution_count": null,
   "metadata": {},
   "outputs": [],
   "source": [
    "bet_cent = nx.betweenness_centrality(G)\n",
    "sns.histplot(list(bet_cent.values()))\n",
    "plt.xlabel('betweeness centrality');"
   ]
  },
  {
   "cell_type": "markdown",
   "metadata": {},
   "source": [
    "The betweenness centrality is generally low, and degree centrality generally high, because almost every possible edge already exists. 28 choose 2 is 378 and there are 374 edges"
   ]
  },
  {
   "cell_type": "markdown",
   "metadata": {},
   "source": [
    "<h4/>Plants and Storage Locations<h4/>"
   ]
  },
  {
   "cell_type": "code",
   "execution_count": null,
   "metadata": {},
   "outputs": [],
   "source": [
    "color_mapping = {     \n",
    "    'S':'blue',\n",
    "    'P':'orange',\n",
    "    'A':'green',\n",
    "    'M':'red',\n",
    "    'E':'purple'#\n",
    "}\n",
    "\n",
    "for n in G.nodes():\n",
    "    G.nodes.data()[n]['color'] = color_mapping[G.nodes.data()[n]['GroupCode']]"
   ]
  },
  {
   "cell_type": "code",
   "execution_count": null,
   "metadata": {},
   "outputs": [],
   "source": [
    "G_plants = nx.Graph()\n",
    "G_plants.add_nodes_from(G.nodes(data=True))\n",
    "G_plants.add_edges_from([(node1,node2,md) for node1,node2,md in G.edges(data=True) if md['Plant'] > 0])"
   ]
  },
  {
   "cell_type": "code",
   "execution_count": null,
   "metadata": {},
   "outputs": [],
   "source": [
    "G_storage = nx.Graph()\n",
    "G_storage.add_nodes_from(G.nodes(data=True))\n",
    "G_storage.add_edges_from([(node1,node2,md) for node1,node2,md in G.edges(data=True) if md['Storage Location'] > 11])\n",
    "G_storage.remove_nodes_from([n for n in G.nodes() if G_storage.degree(n) == 0])"
   ]
  },
  {
   "cell_type": "code",
   "execution_count": null,
   "metadata": {},
   "outputs": [],
   "source": [
    "node_colors = nx.get_node_attributes(G_plants, \"color\").values()\n",
    "colors = list(node_colors)\n",
    "\n",
    "nx.draw(G_plants,node_color=colors)\n",
    "plt.title('Edges with atleast one plant');\n",
    "\n",
    "# product groups legend \n",
    "#     S: blue\n",
    "#     P: orange\n",
    "#     A: green\n",
    "#     M: red"
   ]
  },
  {
   "cell_type": "markdown",
   "metadata": {},
   "source": [
    "- It seems like like that groups M and A share plants while groups S and P share plants"
   ]
  },
  {
   "cell_type": "code",
   "execution_count": null,
   "metadata": {},
   "outputs": [],
   "source": [
    "node_colors = nx.get_node_attributes(G_storage, \"color\").values()\n",
    "colors = list(node_colors)\n",
    "\n",
    "nx.draw(G_storage,node_color=colors)\n",
    "plt.title('Edges with atleast eight shared storage locations');\n",
    "\n",
    "# product groups legend \n",
    "#     S: blue\n",
    "#     P: orange\n",
    "#     A: green\n",
    "#     M: red\n"
   ]
  },
  {
   "cell_type": "markdown",
   "metadata": {},
   "source": [
    "<h4>Forecasting"
   ]
  },
  {
   "cell_type": "code",
   "execution_count": null,
   "metadata": {},
   "outputs": [],
   "source": [
    "d2d = pd.read_csv('Raw Dataset/Homogenoeus/Temporal Data/Weight/Delivery To distributor.csv').drop(removed_products,axis=1)\n",
    "factory_issue = pd.read_csv('Raw Dataset/Homogenoeus/Temporal Data/Weight/Factory Issue.csv').drop(removed_products,axis=1)\n",
    "production = pd.read_csv('Raw Dataset/Homogenoeus/Temporal Data/Weight/Production .csv').drop(removed_products,axis=1)\n",
    "sales_orders = pd.read_csv('Raw Dataset/Homogenoeus/Temporal Data/Weight/Sales Order .csv').drop(removed_products,axis=1)"
   ]
  },
  {
   "cell_type": "code",
   "execution_count": null,
   "metadata": {},
   "outputs": [],
   "source": [
    "d2d.describe()"
   ]
  },
  {
   "cell_type": "code",
   "execution_count": null,
   "metadata": {},
   "outputs": [],
   "source": [
    "sns.heatmap(d2d.drop('Date',axis=1).corr(),vmin=-1,vmax=1)"
   ]
  },
  {
   "cell_type": "code",
   "execution_count": null,
   "metadata": {},
   "outputs": [],
   "source": [
    "sns.heatmap(production.drop('Date',axis=1).corr(),vmin=-1,vmax=1)"
   ]
  },
  {
   "cell_type": "code",
   "execution_count": null,
   "metadata": {},
   "outputs": [],
   "source": [
    "sns.heatmap(sales_orders.drop('Date',axis=1).corr(),vmin=-1,vmax=1)"
   ]
  },
  {
   "cell_type": "code",
   "execution_count": null,
   "metadata": {},
   "outputs": [],
   "source": [
    "sns.heatmap(factory_issue.drop('Date',axis=1).corr(),vmin=-1,vmax=1) #the clear line  product had no factory issues"
   ]
  },
  {
   "cell_type": "code",
   "execution_count": null,
   "metadata": {},
   "outputs": [],
   "source": []
  },
  {
   "cell_type": "code",
   "execution_count": null,
   "metadata": {},
   "outputs": [],
   "source": []
  }
 ],
 "metadata": {
  "kernelspec": {
   "display_name": "supplychain",
   "language": "python",
   "name": "python3"
  },
  "language_info": {
   "codemirror_mode": {
    "name": "ipython",
    "version": 3
   },
   "file_extension": ".py",
   "mimetype": "text/x-python",
   "name": "python",
   "nbconvert_exporter": "python",
   "pygments_lexer": "ipython3",
   "version": "3.12.2"
  }
 },
 "nbformat": 4,
 "nbformat_minor": 2
}
