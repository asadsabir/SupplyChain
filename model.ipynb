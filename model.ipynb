{
 "cells": [
  {
   "cell_type": "code",
   "execution_count": 1,
   "metadata": {},
   "outputs": [],
   "source": [
    "import networkx as nx\n",
    "import scipy.io\n",
    "import numpy as np\n",
    "from scipy import sparse\n",
    "import matplotlib.pyplot as plt"
   ]
  },
  {
   "cell_type": "code",
   "execution_count": 2,
   "metadata": {},
   "outputs": [
    {
     "data": {
      "text/plain": [
       "dict_keys(['__header__', '__version__', '__globals__', 'tra_X_tr', 'tra_X_te', 'tra_Y_tr', 'tra_Y_te', 'tra_adj_mat'])"
      ]
     },
     "execution_count": 2,
     "metadata": {},
     "output_type": "execute_result"
    }
   ],
   "source": [
    "mat = scipy.io.loadmat('traffic_dataset.mat')\n",
    "mat.keys()"
   ]
  },
  {
   "cell_type": "markdown",
   "metadata": {},
   "source": [
    "<h3>Graph Structure</h3>\n",
    "\n",
    "<h4> Nodes </h4>\n",
    "\n",
    "represents a location with a sensor\n",
    "\n",
    "Node features:\n",
    "   Traffic Voume 10  \n",
    "   week day 7\n",
    "   hour of day 24\n",
    "   road direction 4\n",
    "   Number of lanes\n",
    "   Name of road\n",
    "   \n",
    "\n",
    "\n",
    "<h4> Edges </h4>\n",
    "\n",
    "represent traffic connectivity between locations/sensors\n",
    "\n",
    "Since there are no edge features, I'll parametrize edge_weights between sensors in the model\n",
    "   \n",
    " \n",
    "\n"
   ]
  },
  {
   "cell_type": "code",
   "execution_count": 3,
   "metadata": {},
   "outputs": [],
   "source": [
    "def sm_to_array(sm):\n",
    "    return sparse.csr_matrix(sm).toarray()\n",
    "\n",
    "\n",
    "def convert_to_npm(mat_dict):    \n",
    "    npm = []\n",
    "\n",
    "    for i in range(mat_dict.shape[1]):\n",
    "        sm = mat_dict[:,i][0]\n",
    "        npm.append(sm_to_array(sm))\n",
    "\n",
    "    return(np.array(npm))\n",
    "    "
   ]
  },
  {
   "cell_type": "code",
   "execution_count": 4,
   "metadata": {},
   "outputs": [],
   "source": [
    "X_train = convert_to_npm(mat['tra_X_tr'])\n",
    "X_test = convert_to_npm(mat['tra_X_te'])\n",
    "y_train = mat['tra_Y_tr']\n",
    "y_test = mat['tra_Y_te']\n",
    "adj_mat = mat['tra_adj_mat']"
   ]
  },
  {
   "cell_type": "code",
   "execution_count": 5,
   "metadata": {},
   "outputs": [
    {
     "name": "stdout",
     "output_type": "stream",
     "text": [
      "(1261, 36, 48)\n",
      "(840, 36, 48)\n",
      "(36, 1261)\n",
      "(36, 840)\n",
      "(36, 36)\n"
     ]
    }
   ],
   "source": [
    "print(X_train.shape)\n",
    "print(X_test.shape)\n",
    "print(y_train.shape)\n",
    "print(y_test.shape)\n",
    "print(adj_mat.shape)"
   ]
  },
  {
   "cell_type": "code",
   "execution_count": 6,
   "metadata": {},
   "outputs": [
    {
     "data": {
      "text/plain": [
       "array([[0, 1, 0, ..., 0, 0, 0],\n",
       "       [1, 0, 1, ..., 0, 0, 0],\n",
       "       [0, 1, 0, ..., 0, 0, 0],\n",
       "       ...,\n",
       "       [0, 0, 0, ..., 0, 1, 0],\n",
       "       [0, 0, 0, ..., 1, 0, 0],\n",
       "       [0, 0, 0, ..., 0, 0, 0]], dtype=uint8)"
      ]
     },
     "execution_count": 6,
     "metadata": {},
     "output_type": "execute_result"
    }
   ],
   "source": [
    "adj_mat"
   ]
  },
  {
   "cell_type": "markdown",
   "metadata": {},
   "source": [
    "Next I'll check to see if there are any features that are zeros for all sensors in all the rows"
   ]
  },
  {
   "cell_type": "code",
   "execution_count": 7,
   "metadata": {},
   "outputs": [
    {
     "data": {
      "text/plain": [
       "1261"
      ]
     },
     "execution_count": 7,
     "metadata": {},
     "output_type": "execute_result"
    }
   ],
   "source": [
    "len(X_train)"
   ]
  },
  {
   "cell_type": "code",
   "execution_count": 8,
   "metadata": {},
   "outputs": [
    {
     "data": {
      "text/plain": [
       "(36, 48)"
      ]
     },
     "execution_count": 8,
     "metadata": {},
     "output_type": "execute_result"
    }
   ],
   "source": [
    "X_train[0].shape"
   ]
  },
  {
   "cell_type": "code",
   "execution_count": 9,
   "metadata": {},
   "outputs": [],
   "source": [
    "null_count = np.zeros(48)\n",
    "\n",
    "for time in X_train:\n",
    "    for f in range(48):\n",
    "        if sum(time[:,f]) == 0:\n",
    "            null_count[f] += 1"
   ]
  },
  {
   "cell_type": "code",
   "execution_count": 10,
   "metadata": {},
   "outputs": [
    {
     "data": {
      "text/plain": [
       "array([   0.,    0.,    0.,    0.,    0.,    0.,    0.,    0.,    0.,\n",
       "          0.,  973.,  973.,  973., 1056., 1069., 1205., 1205., 1205.,\n",
       "       1208., 1209., 1209., 1209., 1209., 1209., 1209., 1209., 1209.,\n",
       "       1209., 1209., 1209., 1209., 1209., 1209., 1209., 1209., 1209.,\n",
       "       1209., 1209., 1209.,    0.,    0.,    0.,    0.,    0.,    0.,\n",
       "          0.,    0.,    0.])"
      ]
     },
     "execution_count": 10,
     "metadata": {},
     "output_type": "execute_result"
    }
   ],
   "source": [
    "null_count"
   ]
  },
  {
   "cell_type": "code",
   "execution_count": 11,
   "metadata": {},
   "outputs": [
    {
     "data": {
      "text/plain": [
       "array([  0.,   0.,   0.,   0.,   0.,   0.,   0.,   0.,   0.,   0., 648.,\n",
       "       657., 744., 663., 648., 808., 808., 808., 805., 804., 804., 804.,\n",
       "       804., 804., 804., 804., 804., 805., 805., 804., 804., 804., 804.,\n",
       "       804., 804., 804., 805., 808., 808.,   0.,   0.,   0.,   0.,   0.,\n",
       "         0.,   0.,   0.,   0.])"
      ]
     },
     "execution_count": 11,
     "metadata": {},
     "output_type": "execute_result"
    }
   ],
   "source": [
    "null_count = np.zeros(48)\n",
    "\n",
    "for time in X_test:\n",
    "    for f in range(48):\n",
    "        if sum(time[:,f]) == 0:\n",
    "            null_count[f] += 1\n",
    "\n",
    "null_count"
   ]
  },
  {
   "cell_type": "markdown",
   "metadata": {},
   "source": [
    "looks like none of the features are null"
   ]
  },
  {
   "cell_type": "code",
   "execution_count": 12,
   "metadata": {},
   "outputs": [
    {
     "data": {
      "text/plain": [
       "array([[0, 1, 0, ..., 0, 0, 0],\n",
       "       [1, 0, 1, ..., 0, 0, 0],\n",
       "       [0, 1, 0, ..., 0, 0, 0],\n",
       "       ...,\n",
       "       [0, 0, 0, ..., 0, 1, 0],\n",
       "       [0, 0, 0, ..., 1, 0, 0],\n",
       "       [0, 0, 0, ..., 0, 0, 0]], dtype=uint8)"
      ]
     },
     "execution_count": 12,
     "metadata": {},
     "output_type": "execute_result"
    }
   ],
   "source": [
    "adj_mat"
   ]
  },
  {
   "cell_type": "code",
   "execution_count": 13,
   "metadata": {},
   "outputs": [],
   "source": [
    "G = nx.Graph()\n",
    "\n",
    "G.add_nodes_from(range(36))\n",
    "\n",
    "for i in range(len(adj_mat)):\n",
    "    for j in range(i+1,len(adj_mat)):\n",
    "        if adj_mat[i][j] == 1:\n",
    "            G.add_edge(i,j)\n",
    "            G.add_edge(j,i)"
   ]
  },
  {
   "cell_type": "code",
   "execution_count": 14,
   "metadata": {},
   "outputs": [],
   "source": [
    "degree_feature_tr = np.zeros((1261,36))\n",
    "degree_feature_te = np.zeros((840,36))\n",
    "for i in range(36):\n",
    "    degree = G.degree[i]\n",
    "    degree_feature_tr[:,i] = np.repeat(degree,1261)\n",
    "    degree_feature_te[:,i] = np.repeat(degree,840)\n",
    "\n",
    "X_train = np.concatenate((X_train,degree_feature_tr.reshape((1261,36,1))),axis=2)\n",
    "X_test = np.concatenate((X_test,degree_feature_te.reshape((840,36,1))),axis=2)"
   ]
  },
  {
   "cell_type": "code",
   "execution_count": 15,
   "metadata": {},
   "outputs": [
    {
     "data": {
      "text/plain": [
       "(1261, 36, 49)"
      ]
     },
     "execution_count": 15,
     "metadata": {},
     "output_type": "execute_result"
    }
   ],
   "source": [
    "X_train.shape"
   ]
  },
  {
   "cell_type": "code",
   "execution_count": 16,
   "metadata": {},
   "outputs": [
    {
     "data": {
      "image/png": "[encoded data removed]",
      "text/plain": [
       "<Figure size 640x480 with 1 Axes>"
      ]
     },
     "metadata": {},
     "output_type": "display_data"
    }
   ],
   "source": [
    "nx.draw(G)"
   ]
  },
  {
   "cell_type": "markdown",
   "metadata": {},
   "source": [
    "Setting up testing and training iterators below"
   ]
  },
  {
   "cell_type": "code",
   "execution_count": 17,
   "metadata": {},
   "outputs": [],
   "source": [
    "from torch_geometric_temporal.signal import StaticGraphTemporalSignal\n",
    "\n",
    "train_iter = StaticGraphTemporalSignal(\n",
    "    edge_index= np.array(list(G.edges())).transpose(),\n",
    "    edge_weight=np.ones(len(G.edges)),\n",
    "    features = X_train,\n",
    "    targets = y_train.T#[4,:].reshape((1261,1))\n",
    ")\n",
    "\n",
    "test_iter = StaticGraphTemporalSignal(\n",
    "    edge_index= np.array(list(G.edges())).transpose(),\n",
    "    edge_weight=np.ones(len(G.edges)),\n",
    "    features = X_test,\n",
    "    targets = y_test.T#[4,:].reshape((840,1))\n",
    ")"
   ]
  },
  {
   "cell_type": "code",
   "execution_count": 18,
   "metadata": {},
   "outputs": [
    {
     "name": "stdout",
     "output_type": "stream",
     "text": [
      "torch.Size([36, 49])\n",
      "torch.Size([2, 43])\n",
      "torch.Size([43])\n",
      "36\n",
      "1\n",
      "torch.Size([36])\n"
     ]
    }
   ],
   "source": [
    "for time, snapshot in enumerate(train_iter):\n",
    "    print(snapshot.x.shape)\n",
    "    print(snapshot.edge_index.shape)\n",
    "    print(snapshot.edge_attr.shape)\n",
    "    print(snapshot.num_nodes)\n",
    "    print(snapshot.num_edge_features)\n",
    "    print(snapshot.y.shape)\n",
    "    break"
   ]
  },
  {
   "cell_type": "code",
   "execution_count": 19,
   "metadata": {},
   "outputs": [],
   "source": [
    "import torch\n",
    "import torch.nn.functional as F\n",
    "from torch import nn\n",
    "from torch_geometric_temporal.nn.recurrent import GConvLSTM\n",
    "from torch_geometric.nn.conv import SAGEConv,GraphConv\n",
    "from torch_geometric.nn import GraphSAGE    \n",
    "from torch_geometric.nn.norm import GraphNorm\n",
    "\n",
    "class GLSTM(torch.nn.Module):\n",
    "    def __init__(self, node_features, filters,num_edges):\n",
    "        super(GLSTM, self).__init__()\n",
    "        self.recurrent = GConvLSTM(node_features, filters, 3)\n",
    "        self.sage = SAGEConv(filters,1,project=True)                           \n",
    "        self.edge_weight = nn.Parameter(torch.ones(num_edges,dtype=torch.float)) #parametrizing edge weight since there aren't any edge features\n",
    "        \n",
    "    def forward(self, x, edge_index, hidden_state, cell_state):\n",
    "        \n",
    "        h,c = self.recurrent(x, edge_index, self.edge_weight,H=hidden_state,C=cell_state)\n",
    "        \n",
    "        y = F.relu(h)\n",
    "        y = self.sage(y,edge_index)\n",
    "\n",
    "        return y,h,c"
   ]
  },
  {
   "cell_type": "code",
   "execution_count": 20,
   "metadata": {},
   "outputs": [],
   "source": [
    "from tqdm import tqdm\n",
    "          \n",
    "\n",
    "batch_size = 4\n",
    "model = GLSTM(node_features=49,filters=32,num_edges=86)\n",
    "loss = nn.MSELoss()\n",
    "optimizer = torch.optim.AdamW(model.parameters(), lr=0.0001)   #Using Adam \n",
    "\n",
    "tr_preds = []\n",
    "tr_y = []\n",
    "\n",
    "train_loss = []\n",
    "test_loss = []\n",
    "\n",
    "vmse = torch.vmap(loss) #calculate mse per sensor"
   ]
  },
  {
   "cell_type": "code",
   "execution_count": 27,
   "metadata": {},
   "outputs": [
    {
     "name": "stderr",
     "output_type": "stream",
     "text": [
      "train MSE:0.001298, test MSE:0.002130:  31%|███       | 62/200 [09:01<20:05,  8.73s/it]\n"
     ]
    },
    {
     "ename": "KeyboardInterrupt",
     "evalue": "",
     "output_type": "error",
     "traceback": [
      "\u001b[0;31m---------------------------------------------------------------------------\u001b[0m",
      "\u001b[0;31mKeyboardInterrupt\u001b[0m                         Traceback (most recent call last)",
      "Cell \u001b[0;32mIn[27], line 21\u001b[0m\n\u001b[1;32m     18\u001b[0m mean_mse_tr \u001b[38;5;241m=\u001b[39m mean_mse_tr \u001b[38;5;241m+\u001b[39m torch\u001b[38;5;241m.\u001b[39mmean(vmse(y_hat,snapshot\u001b[38;5;241m.\u001b[39my))\n\u001b[1;32m     20\u001b[0m \u001b[38;5;28;01mif\u001b[39;00m time \u001b[38;5;241m%\u001b[39m batch_size \u001b[38;5;241m==\u001b[39m \u001b[38;5;241m0\u001b[39m \u001b[38;5;129;01mor\u001b[39;00m time \u001b[38;5;241m==\u001b[39m \u001b[38;5;241m1260\u001b[39m:\n\u001b[0;32m---> 21\u001b[0m     \u001b[43mcost\u001b[49m\u001b[38;5;241;43m.\u001b[39;49m\u001b[43mbackward\u001b[49m\u001b[43m(\u001b[49m\u001b[43m)\u001b[49m\n\u001b[1;32m     22\u001b[0m     optimizer\u001b[38;5;241m.\u001b[39mstep()\n\u001b[1;32m     24\u001b[0m     optimizer\u001b[38;5;241m.\u001b[39mzero_grad()\n",
      "File \u001b[0;32m~/anaconda3/envs/traffic/lib/python3.11/site-packages/torch/_tensor.py:522\u001b[0m, in \u001b[0;36mTensor.backward\u001b[0;34m(self, gradient, retain_graph, create_graph, inputs)\u001b[0m\n\u001b[1;32m    512\u001b[0m \u001b[38;5;28;01mif\u001b[39;00m has_torch_function_unary(\u001b[38;5;28mself\u001b[39m):\n\u001b[1;32m    513\u001b[0m     \u001b[38;5;28;01mreturn\u001b[39;00m handle_torch_function(\n\u001b[1;32m    514\u001b[0m         Tensor\u001b[38;5;241m.\u001b[39mbackward,\n\u001b[1;32m    515\u001b[0m         (\u001b[38;5;28mself\u001b[39m,),\n\u001b[0;32m   (...)\u001b[0m\n\u001b[1;32m    520\u001b[0m         inputs\u001b[38;5;241m=\u001b[39minputs,\n\u001b[1;32m    521\u001b[0m     )\n\u001b[0;32m--> 522\u001b[0m \u001b[43mtorch\u001b[49m\u001b[38;5;241;43m.\u001b[39;49m\u001b[43mautograd\u001b[49m\u001b[38;5;241;43m.\u001b[39;49m\u001b[43mbackward\u001b[49m\u001b[43m(\u001b[49m\n\u001b[1;32m    523\u001b[0m \u001b[43m    \u001b[49m\u001b[38;5;28;43mself\u001b[39;49m\u001b[43m,\u001b[49m\u001b[43m \u001b[49m\u001b[43mgradient\u001b[49m\u001b[43m,\u001b[49m\u001b[43m \u001b[49m\u001b[43mretain_graph\u001b[49m\u001b[43m,\u001b[49m\u001b[43m \u001b[49m\u001b[43mcreate_graph\u001b[49m\u001b[43m,\u001b[49m\u001b[43m \u001b[49m\u001b[43minputs\u001b[49m\u001b[38;5;241;43m=\u001b[39;49m\u001b[43minputs\u001b[49m\n\u001b[1;32m    524\u001b[0m \u001b[43m\u001b[49m\u001b[43m)\u001b[49m\n",
      "File \u001b[0;32m~/anaconda3/envs/traffic/lib/python3.11/site-packages/torch/autograd/__init__.py:266\u001b[0m, in \u001b[0;36mbackward\u001b[0;34m(tensors, grad_tensors, retain_graph, create_graph, grad_variables, inputs)\u001b[0m\n\u001b[1;32m    261\u001b[0m     retain_graph \u001b[38;5;241m=\u001b[39m create_graph\n\u001b[1;32m    263\u001b[0m \u001b[38;5;66;03m# The reason we repeat the same comment below is that\u001b[39;00m\n\u001b[1;32m    264\u001b[0m \u001b[38;5;66;03m# some Python versions print out the first line of a multi-line function\u001b[39;00m\n\u001b[1;32m    265\u001b[0m \u001b[38;5;66;03m# calls in the traceback and some print out the last line\u001b[39;00m\n\u001b[0;32m--> 266\u001b[0m \u001b[43mVariable\u001b[49m\u001b[38;5;241;43m.\u001b[39;49m\u001b[43m_execution_engine\u001b[49m\u001b[38;5;241;43m.\u001b[39;49m\u001b[43mrun_backward\u001b[49m\u001b[43m(\u001b[49m\u001b[43m  \u001b[49m\u001b[38;5;66;43;03m# Calls into the C++ engine to run the backward pass\u001b[39;49;00m\n\u001b[1;32m    267\u001b[0m \u001b[43m    \u001b[49m\u001b[43mtensors\u001b[49m\u001b[43m,\u001b[49m\n\u001b[1;32m    268\u001b[0m \u001b[43m    \u001b[49m\u001b[43mgrad_tensors_\u001b[49m\u001b[43m,\u001b[49m\n\u001b[1;32m    269\u001b[0m \u001b[43m    \u001b[49m\u001b[43mretain_graph\u001b[49m\u001b[43m,\u001b[49m\n\u001b[1;32m    270\u001b[0m \u001b[43m    \u001b[49m\u001b[43mcreate_graph\u001b[49m\u001b[43m,\u001b[49m\n\u001b[1;32m    271\u001b[0m \u001b[43m    \u001b[49m\u001b[43minputs\u001b[49m\u001b[43m,\u001b[49m\n\u001b[1;32m    272\u001b[0m \u001b[43m    \u001b[49m\u001b[43mallow_unreachable\u001b[49m\u001b[38;5;241;43m=\u001b[39;49m\u001b[38;5;28;43;01mTrue\u001b[39;49;00m\u001b[43m,\u001b[49m\n\u001b[1;32m    273\u001b[0m \u001b[43m    \u001b[49m\u001b[43maccumulate_grad\u001b[49m\u001b[38;5;241;43m=\u001b[39;49m\u001b[38;5;28;43;01mTrue\u001b[39;49;00m\u001b[43m,\u001b[49m\n\u001b[1;32m    274\u001b[0m \u001b[43m\u001b[49m\u001b[43m)\u001b[49m\n",
      "\u001b[0;31mKeyboardInterrupt\u001b[0m: "
     ]
    }
   ],
   "source": [
    "from torch_geometric.transforms import ToUndirected \n",
    "t = tqdm(range(200),leave=True)\n",
    "undirect = ToUndirected()\n",
    "for epoch in t:\n",
    "    model.train()\n",
    "    \n",
    "    H = None\n",
    "    C = None\n",
    "    \n",
    "    mean_mse_tr = torch.zeros(1)\n",
    "    cost = torch.zeros(1)\n",
    "    for time, snapshot in enumerate(train_iter):\n",
    "        snapshot = undirect(snapshot)\n",
    "       \n",
    "        y_hat,H,C = model(snapshot.x, snapshot.edge_index, H, C)\n",
    "        \n",
    "        cost = cost + torch.amax(vmse(y_hat,snapshot.y))   #optimizing for worst performing sensor\n",
    "        mean_mse_tr = mean_mse_tr + torch.mean(vmse(y_hat,snapshot.y))\n",
    "            \n",
    "        if time % batch_size == 0 or time == 1260:\n",
    "            cost.backward()\n",
    "            optimizer.step()\n",
    "            \n",
    "            optimizer.zero_grad()\n",
    "            cost = 0\n",
    "            H = None\n",
    "            C = C.detach()\n",
    "        \n",
    "    with torch.no_grad():\n",
    "        H_t = None\n",
    "        C_t = None\n",
    "        model.eval()\n",
    "        mean_mse_te = 0\n",
    "        for ttime, tsnapshot in enumerate(test_iter):\n",
    "            tsnapshot = undirect(tsnapshot)                                      \n",
    "            pred,H_t,C_t = model(tsnapshot.x, tsnapshot.edge_index, H_t,C_t)\n",
    "            mean_mse_te = mean_mse_te + torch.mean(vmse(pred,tsnapshot.y))\n",
    "            \n",
    "            if ttime % batch_size == 0:\n",
    "                H_t = None\n",
    "            \n",
    "        mean_mse_te = mean_mse_te.item() / (ttime+1)\n",
    "        test_loss.append(mean_mse_te)\n",
    "\n",
    "    train_loss.append(mean_mse_tr/(time+1))\n",
    "        \n",
    "    \n",
    "    if epoch % 5 == 0:\n",
    "        torch.save(model.state_dict(),f'models/modelat{len(test_loss)}.pth')\n",
    "    t.set_description(f'train MSE:{train_loss[-1].item():3f}, test MSE:{test_loss[-1]:3f}')\n",
    "    "
   ]
  },
  {
   "cell_type": "code",
   "execution_count": 38,
   "metadata": {},
   "outputs": [
    {
     "data": {
      "text/plain": [
       "tensor([0.7972, 0.9532, 0.7926, 1.0434, 1.0381, 0.8952, 0.9168, 0.9129, 0.9866,\n",
       "        0.9758, 0.9086, 0.9078, 0.9526, 0.9343, 0.8911, 0.9156, 0.8824, 1.0408,\n",
       "        0.7999, 1.0109, 0.8764, 0.8524, 0.9235, 0.9727, 1.1004, 0.8487, 0.9521,\n",
       "        0.9087, 0.8645, 0.8471, 0.9632, 0.9278, 0.8406, 0.7878, 0.8132, 0.7734,\n",
       "        0.9563, 0.9750, 0.8087, 1.0050, 0.8373, 1.0537, 0.8031, 1.0200, 0.9114,\n",
       "        0.9071, 0.8891, 0.9509, 0.9048, 1.0104, 0.8608, 0.9501, 0.9696, 0.8093,\n",
       "        0.9730, 1.0158, 0.9350, 0.8701, 1.0090, 0.7700, 1.0427, 0.7951, 1.1303,\n",
       "        0.8978, 1.0489, 1.0128, 1.0233, 0.8318, 0.9388, 0.8546, 0.6795, 0.7210,\n",
       "        0.6861, 1.1457, 0.9411, 0.9157, 0.8915, 0.9194, 0.9520, 0.8601, 0.9046,\n",
       "        1.0188, 0.8822, 0.8560, 0.9621, 0.7997])"
      ]
     },
     "execution_count": 38,
     "metadata": {},
     "output_type": "execute_result"
    }
   ],
   "source": [
    "model.state_dict()['edge_weight']"
   ]
  },
  {
   "cell_type": "code",
   "execution_count": 26,
   "metadata": {},
   "outputs": [
    {
     "data": {
      "text/plain": [
       "200"
      ]
     },
     "execution_count": 26,
     "metadata": {},
     "output_type": "execute_result"
    }
   ],
   "source": [
    "len(train_loss)"
   ]
  },
  {
   "cell_type": "code",
   "execution_count": 39,
   "metadata": {},
   "outputs": [
    {
     "data": {
      "text/plain": [
       "tensor([0.0013])"
      ]
     },
     "execution_count": 39,
     "metadata": {},
     "output_type": "execute_result"
    }
   ],
   "source": [
    "train_loss[261]"
   ]
  },
  {
   "cell_type": "code",
   "execution_count": 33,
   "metadata": {},
   "outputs": [
    {
     "data": {
      "text/plain": [
       "0.002156978419848851"
      ]
     },
     "execution_count": 33,
     "metadata": {},
     "output_type": "execute_result"
    }
   ],
   "source": [
    "test_loss[201]"
   ]
  },
  {
   "cell_type": "code",
   "execution_count": 32,
   "metadata": {},
   "outputs": [
    {
     "data": {
      "text/plain": [
       "[<matplotlib.lines.Line2D at 0x7025a0850>]"
      ]
     },
     "execution_count": 32,
     "metadata": {},
     "output_type": "execute_result"
    },
    {
     "data": {
      "image/png": "[encoded data removed]",
      "text/plain": [
       "<Figure size 640x480 with 1 Axes>"
      ]
     },
     "metadata": {},
     "output_type": "display_data"
    }
   ],
   "source": [
    "plt.plot(train_loss[100:])\n",
    "#plt.plot(test_loss[100:])"
   ]
  },
  {
   "cell_type": "code",
   "execution_count": 37,
   "metadata": {},
   "outputs": [
    {
     "data": {
      "text/plain": [
       "[<matplotlib.lines.Line2D at 0x70265e0d0>]"
      ]
     },
     "execution_count": 37,
     "metadata": {},
     "output_type": "execute_result"
    },
    {
     "data": {
      "image/png": "[encoded data removed]",
      "text/plain": [
       "<Figure size 640x480 with 1 Axes>"
      ]
     },
     "metadata": {},
     "output_type": "display_data"
    }
   ],
   "source": [
    "plt.plot(test_loss[180:])"
   ]
  },
  {
   "cell_type": "code",
   "execution_count": null,
   "metadata": {},
   "outputs": [],
   "source": [
    "len(test_loss)"
   ]
  },
  {
   "cell_type": "code",
   "execution_count": null,
   "metadata": {},
   "outputs": [],
   "source": [
    "len(train_loss)"
   ]
  },
  {
   "cell_type": "code",
   "execution_count": 41,
   "metadata": {},
   "outputs": [
    {
     "name": "stderr",
     "output_type": "stream",
     "text": [
      "/Users/asadsabir/anaconda3/envs/traffic/lib/python3.11/site-packages/torch/nn/modules/loss.py:535: UserWarning: Using a target size (torch.Size([])) that is different to the input size (torch.Size([1])). This will likely lead to incorrect results due to broadcasting. Please ensure they have the same size.\n",
      "  return F.mse_loss(input, target, reduction=self.reduction)\n"
     ]
    }
   ],
   "source": [
    "H_t = None\n",
    "C_t = None\n",
    "preds = []\n",
    "true = []\n",
    "model.eval()\n",
    "mean_mse_te = 0\n",
    "for ttime, tsnapshot in enumerate(test_iter):\n",
    "    tsnapshot = undirect(tsnapshot)\n",
    "    pred,H_t,C_t = model(tsnapshot.x, tsnapshot.edge_index, H_t,C_t)\n",
    "    mean_mse_te = mean_mse_te + torch.mean(vmse(pred,tsnapshot.y))\n",
    "    preds.append(pred.detach().numpy())\n",
    "    true.append(tsnapshot.y.detach().numpy())\n",
    "    if ttime%batch_size == 0:\n",
    "        H_t = None\n",
    "\n",
    "mean_mse_te = mean_mse_te/(ttime+1)"
   ]
  },
  {
   "cell_type": "code",
   "execution_count": 42,
   "metadata": {},
   "outputs": [
    {
     "data": {
      "text/plain": [
       "tensor(0.0023, grad_fn=<DivBackward0>)"
      ]
     },
     "execution_count": 42,
     "metadata": {},
     "output_type": "execute_result"
    }
   ],
   "source": [
    "mean_mse_te"
   ]
  },
  {
   "cell_type": "code",
   "execution_count": 45,
   "metadata": {},
   "outputs": [
    {
     "data": {
      "text/plain": [
       "0.002314949603307815"
      ]
     },
     "execution_count": 45,
     "metadata": {},
     "output_type": "execute_result"
    }
   ],
   "source": [
    "test_loss[-2]"
   ]
  },
  {
   "cell_type": "code",
   "execution_count": null,
   "metadata": {},
   "outputs": [],
   "source": [
    "preds = np.array(preds).reshape((840,36))\n",
    "true = np.array(true)"
   ]
  },
  {
   "cell_type": "code",
   "execution_count": null,
   "metadata": {},
   "outputs": [],
   "source": [
    "for s in range(36):\n",
    "    plt.plot(true[:,s])\n",
    "    plt.plot(preds[:,s])\n",
    "    plt.show()\n",
    "    "
   ]
  },
  {
   "cell_type": "code",
   "execution_count": null,
   "metadata": {},
   "outputs": [],
   "source": [
    "H_t = None\n",
    "C_t = None\n",
    "model.eval()\n",
    "mean_mse_te = 0\n",
    "for ttime, tsnapshot in enumerate(test_iter):                                      \n",
    "    pred,H_t,C_t = model(tsnapshot.x, tsnapshot.edge_index, H_t,C_t)\n",
    "    mean_mse_te = mean_mse_te + torch.mean(vmse(pred,tsnapshot.y))\n",
    "    \n",
    "    if time % batch_size == 0:\n",
    "        H_t = None\n",
    "    \n",
    "mean_mse_te = mean_mse_te.item() / (ttime+1)"
   ]
  },
  {
   "cell_type": "code",
   "execution_count": 49,
   "metadata": {},
   "outputs": [
    {
     "data": {
      "text/plain": [
       "tensor([0.0013])"
      ]
     },
     "execution_count": 49,
     "metadata": {},
     "output_type": "execute_result"
    }
   ],
   "source": [
    "train_loss[244]"
   ]
  },
  {
   "cell_type": "code",
   "execution_count": 46,
   "metadata": {},
   "outputs": [
    {
     "name": "stdout",
     "output_type": "stream",
     "text": [
      "246 0.002109978028706142\n"
     ]
    }
   ],
   "source": [
    "bi = 6\n",
    "v = 1\n",
    "for i,b in enumerate(test_loss):\n",
    "    if i % 5 == 0 and b < v:\n",
    "        v = b\n",
    "        bi = i\n",
    "\n",
    "print(bi+1,v)"
   ]
  },
  {
   "cell_type": "code",
   "execution_count": null,
   "metadata": {},
   "outputs": [],
   "source": [
    "torch.save(model.state_dict(),'modelat165.pth')"
   ]
  },
  {
   "cell_type": "code",
   "execution_count": null,
   "metadata": {},
   "outputs": [],
   "source": [
    "def objective(config):\n",
    "\n",
    "    class GLSTM(torch.nn.Module):\n",
    "        def __init__(self, node_features, filters,num_edges):\n",
    "            super(GLSTM, self).__init__()\n",
    "            self.recurrentin = GConvLSTM(node_features, filters, config['K'])\n",
    "            self.recurrent = nn.ModuleList([GConvLSTM(filters, filters, config['K']) for _ in range(config['GNN_cells']-1)])\n",
    "                                       \n",
    "            \n",
    "            self.edge_weight = nn.Parameter(torch.ones(num_edges,dtype=torch.float))\n",
    "            self.Lw = nn.Parameter(torch.ones((36,filters),dtype=torch.float))\n",
    "            self.Lb = nn.Parameter(torch.zeros(36,dtype=torch.float))\n",
    "            \n",
    "        def forward(self, x, edge_index, hidden_state, cell_state):\n",
    "            hs = []\n",
    "            cs = []\n",
    "            \n",
    "            h,c = self.recurrentin(x, edge_index, self.edge_weight,H=hidden_state[0],C=cell_state[0])\n",
    "            hs.append(h)\n",
    "            cs.append(c)\n",
    "\n",
    "            for i,cell in enumerate(self.recurrent):\n",
    "                h_n,c_n = cell(hs[-1], edge_index, self.edge_weight,H=hidden_state[i+1],C=cell_state[i+1])\n",
    "                hs.append(h_n)\n",
    "                cs.append(c_n)\n",
    "\n",
    "            y = F.relu(hs[-1])\n",
    "\n",
    "            y = torch.tensordot(self.Lw,y,dims=2)\n",
    "            y = torch.add(y,self.Lb)\n",
    "\n",
    "            return y,hs,cs\n",
    "        \n",
    "    \n",
    "    model = GLSTM(node_features=48,filters=config['filters'],num_edges=43)\n",
    "    optimizer = torch.optim.Adam(model.parameters(), lr=0.001)\n",
    "    batch_size = config['batch_size']\n",
    "    test_loss = []\n",
    "    \n",
    "\n",
    "    for epoch in range(200):\n",
    "        model.train()\n",
    "        \n",
    "        H = [None for _ in range(config['GNN_cells'])]\n",
    "        C = [None for _ in range(config['GNN_cells'])]\n",
    "        cost = torch.zeros(1)\n",
    "        for time, snapshot in enumerate(train_iter):\n",
    "            y_hat,H,C = model(snapshot.x, snapshot.edge_index, H, C)\n",
    "            cost = cost + torch.mean((y_hat-snapshot.y)**2)\n",
    "            \n",
    "            if time%batch_size == 0 or time == 1260:\n",
    "                cost.backward()\n",
    "                optimizer.step()\n",
    "                optimizer.zero_grad()\n",
    "                cost = 0\n",
    "                H = [None for _ in range(config['GNN_cells'])]\n",
    "                C = [None for _ in range(config['GNN_cells'])]\n",
    "        with torch.no_grad():\n",
    "            H_t = [None for _ in range(config['GNN_cells'])]\n",
    "            C_t = [None for _ in range(config['GNN_cells'])]\n",
    "            model.eval()\n",
    "            test_cost = 0\n",
    "            for ttime, tsnapshot in enumerate(test_iter):\n",
    "                pred,H_t,C_t = model(tsnapshot.x, tsnapshot.edge_index, H_t,C_t)\n",
    "                test_cost = test_cost + torch.mean((pred-tsnapshot.y)**2)\n",
    "\n",
    "            test_cost = test_cost / (ttime+1)\n",
    "            test_cost = test_cost.item()\n",
    "            test_loss.append(test_cost)\n",
    "    \n",
    "    return np.min(test_loss)\n",
    "    "
   ]
  },
  {
   "cell_type": "code",
   "execution_count": null,
   "metadata": {},
   "outputs": [],
   "source": [
    "from ray import train, tune\n",
    "\n",
    "search_space = {\n",
    "    'batch_size':tune.grid_search([3,4,5,6,7]),\n",
    "    'GNN_cells':tune.grid_search([1,2,3]),\n",
    "    'K':tune.choice([2,3,4,5]), \n",
    "    'filters':tune.choice(range(10,36))\n",
    "}\n",
    "tuner = tune.Tuner(objective, param_space=search_space)  # ③\n",
    "\n",
    "results = tuner.fit()\n",
    "print(results.get_best_result(metric=\"score\", mode=\"min\").config)"
   ]
  },
  {
   "cell_type": "code",
   "execution_count": null,
   "metadata": {},
   "outputs": [],
   "source": [
    "print(results.get_best_result(metric=\"_metric\", mode=\"min\").config)"
   ]
  },
  {
   "cell_type": "code",
   "execution_count": null,
   "metadata": {},
   "outputs": [],
   "source": []
  }
 ],
 "metadata": {
  "kernelspec": {
   "display_name": "supplychain",
   "language": "python",
   "name": "python3"
  },
  "language_info": {
   "codemirror_mode": {
    "name": "ipython",
    "version": 3
   },
   "file_extension": ".py",
   "mimetype": "text/x-python",
   "name": "python",
   "nbconvert_exporter": "python",
   "pygments_lexer": "ipython3",
   "version": "3.11.8"
  }
 },
 "nbformat": 4,
 "nbformat_minor": 2
}
